{
 "cells": [
  {
   "cell_type": "markdown",
   "metadata": {},
   "source": [
    "# Selenium"
   ]
  },
  {
   "cell_type": "markdown",
   "metadata": {},
   "source": [
    "### Простые примеры"
   ]
  },
  {
   "cell_type": "code",
   "execution_count": 1,
   "metadata": {},
   "outputs": [],
   "source": [
    "import time\n",
    "from selenium import webdriver\n",
    "\n",
    "URL = 'https://stepik.org/a/104774'\n",
    "browser = webdriver.Chrome()\n",
    "browser.get(URL)\n",
    "time.sleep(5)"
   ]
  },
  {
   "cell_type": "markdown",
   "metadata": {},
   "source": [
    "Запуск браузера в скрытом режиме"
   ]
  },
  {
   "cell_type": "code",
   "execution_count": 19,
   "metadata": {},
   "outputs": [
    {
     "name": "stdout",
     "output_type": "stream",
     "text": [
      "https://ya.ru/?open_keyboard=1\n"
     ]
    }
   ],
   "source": [
    "from selenium import webdriver\n",
    "from selenium.webdriver.common.by import By\n",
    "\n",
    "options_chrome = webdriver.ChromeOptions()\n",
    "# options_chrome.add_argument('--headless') # --disable-gpu\n",
    "options_chrome.add_extension('D:\\MyProjectsPython\\LessonsOnParsing\\extension\\cor.crx') # Подключение расширения\n",
    "options_chrome.add_argument(\"--headless=chrome\") # браузер с расширениями  и в режиме --headless\n",
    "\n",
    "\n",
    "with webdriver.Chrome(options=options_chrome) as browser:\n",
    "    URL = 'https://yandex.ru/'\n",
    "    browser.get(url=URL)\n",
    "    a = browser.find_element(By.TAG_NAME, 'a')\n",
    "    print(a.get_attribute('href'))"
   ]
  },
  {
   "cell_type": "markdown",
   "metadata": {},
   "source": [
    "Перенос профиля с основного браузера Chrome в браузер под управлением Selenium"
   ]
  },
  {
   "cell_type": "code",
   "execution_count": 32,
   "metadata": {},
   "outputs": [],
   "source": [
    "import time\n",
    "from selenium import webdriver\n",
    "\n",
    "options_chrome = webdriver.ChromeOptions()\n",
    "options_chrome.add_argument(r\"user-data-dir=C:\\Users\\UserName\\AppData\\Local\\Google\\Chrome\\User Data\")\n",
    "with webdriver.Chrome(options=options_chrome) as browser:\n",
    "    URL = 'https://stepik.org/learn?auth=login'\n",
    "    browser.get(URL)\n",
    "    time.sleep(10) "
   ]
  },
  {
   "cell_type": "markdown",
   "metadata": {},
   "source": [
    "Работа с прокси в Selenium"
   ]
  },
  {
   "cell_type": "code",
   "execution_count": 36,
   "metadata": {},
   "outputs": [
    {
     "name": "stdout",
     "output_type": "stream",
     "text": [
      "77.222.99.66\n"
     ]
    }
   ],
   "source": [
    "import time\n",
    "from selenium import webdriver\n",
    "from selenium.webdriver.common.by import By\n",
    "\n",
    "option = webdriver.ChromeOptions()\n",
    "option.add_argument('--headless')\n",
    "\n",
    "URL = 'https://2ip.ru/'\n",
    "with webdriver.Chrome(options=option) as browser:\n",
    "    browser.get(URL)\n",
    "    #time.sleep(5)\n",
    "    print(browser.find_element(By.ID, 'd_clip_button').text)\n",
    "    #print(time.sleep(5))"
   ]
  },
  {
   "cell_type": "code",
   "execution_count": 68,
   "metadata": {},
   "outputs": [
    {
     "name": "stdout",
     "output_type": "stream",
     "text": [
      "Прокси: 35.236.207.242:33333\n",
      "35.236.207.242\n"
     ]
    }
   ],
   "source": [
    "from eggs.MyProxy import GetRandomProxy\n",
    "import time\n",
    "from selenium import webdriver\n",
    "from selenium.webdriver.common.by import By\n",
    "\n",
    "proxy = \"35.236.207.242:33333\"#GetRandomProxy()  # Прокси формата 'IP:PORT'\n",
    "URL = 'https://2ip.ru/'\n",
    "\n",
    "print(f\"Прокси: {proxy}\")\n",
    "\n",
    "chrome_options = webdriver.ChromeOptions()\n",
    "chrome_options.add_argument(f'--proxy-server={proxy}')\n",
    "\n",
    "with webdriver.Chrome(options=chrome_options) as browser:\n",
    "    browser.get(URL)\n",
    "    browser.set_page_load_timeout(5)\n",
    "    time.sleep(10)\n",
    "    print(browser.find_element(By.ID, 'd_clip_button').find_element(\n",
    "        By.TAG_NAME, 'span').text)\n",
    "    browser.set_page_load_timeout(5)"
   ]
  },
  {
   "cell_type": "code",
   "execution_count": null,
   "metadata": {},
   "outputs": [],
   "source": [
    "from eggs.MyProxy import list_proxy\n",
    "from selenium import webdriver\n",
    "from selenium.webdriver.common.by import By\n",
    "\n",
    "URL = 'https://2ip.ru/'\n",
    "TIME_OUT = 10\n",
    "\n",
    "for proxy in list_proxy:\n",
    "    try:\n",
    "        option = webdriver.ChromeOptions()\n",
    "        option.add_argument(f'--proxy-server={proxy}')\n",
    "        \n",
    "        with webdriver.Chrome(options=option) as browser:\n",
    "            browser.get(url=URL)\n",
    "            browser.set_page_load_timeout(TIME_OUT)\n",
    "            #print(browser.find_element(By.ID, 'd_clip_button').find_element(By.TAG_NAME, 'span').text)\n",
    "            print(f'{proxy}')\n",
    "    except Exception as _:\n",
    "        #print(f\"Время ожидания превышено для {proxy}\")\n",
    "        continue"
   ]
  },
  {
   "cell_type": "markdown",
   "metadata": {},
   "source": [
    "Для работы прокси с авторизацией нужно дополнительно selenium-wire\n"
   ]
  },
  {
   "cell_type": "code",
   "execution_count": null,
   "metadata": {},
   "outputs": [],
   "source": [
    "\n",
    "import time\n",
    "from selenium.webdriver.common.by import By\n",
    "from seleniumwire import webdriver\n",
    "\n",
    "\n",
    "option = {'proxy': {\n",
    "     'http': f'http://name:pass@ip:port',\n",
    "     'https': f'http://name:pass@ip:port'\n",
    " }}\n",
    "\n",
    "URL = 'https://2ip.ru/'\n",
    "TIME_OUT = 10\n",
    "\n",
    "with webdriver.Chrome(seleniumwire_options=option) as browser:\n",
    "    browser.get(URL)\n",
    "    browser.set_page_load_timeout = TIME_OUT\n",
    "    print(browser.find_element(By.ID ,'d_clip_button').find_element(By.TAG_NAME, 'span').text)"
   ]
  },
  {
   "cell_type": "markdown",
   "metadata": {},
   "source": [
    "### Поиск элементов"
   ]
  },
  {
   "cell_type": "markdown",
   "metadata": {},
   "source": [
    "#### 2 способа"
   ]
  },
  {
   "cell_type": "markdown",
   "metadata": {},
   "source": [
    "##### Локаторы"
   ]
  },
  {
   "cell_type": "markdown",
   "metadata": {},
   "source": [
    "Нужно импортировать\n",
    "```from selenium.webdriver.common.by import By```\n",
    "\n",
    "Локаторы играют очень важную роль при работе с Selenium. Они обеспечивают путь к веб-элементам, которые необходимы для автоматизации определенных действий, таких как клик, ввод, установка флага и др.\n",
    "\n",
    " ```By.ID``` – поиск по уникальному атрибуту id элемента;\n",
    "\n",
    " ```By.CSS_SELECTOR``` –поиск элементов с помощью правил на основе CSS;\n",
    "\n",
    " ```By.XPATH``` – поиск элементов с помощью языка запросов XPath;\n",
    "\n",
    " ```By.NAME``` – поиск по атрибуту name элемента;\n",
    "\n",
    " ```By.TAG_NAME``` – поиск по названию тега;\n",
    "\n",
    " ```By.CLASS_NAME``` – поиск по атрибуту class элемента;\n",
    "\n",
    " ```By.LINK_TEXT``` – поиск ссылки с указанным текстом. Текст ссылки должен быть точным совпадением;\n",
    "\n",
    " ```By.PARTIAL_LINK_TEXT``` – Поиск ссылки по частичному совпадению текста.\n",
    " \n",
    "Локаторы мы используем с помощью двух универсальных методов - ```find_element()```, который возвращает ровно один элемент, найденный первым, и ```find_elements()```, который возвращает список найденных элементов. "
   ]
  },
  {
   "cell_type": "code",
   "execution_count": null,
   "metadata": {},
   "outputs": [],
   "source": [
    "from selenium import webdriver\n",
    "from selenium.webdriver.common.by import By\n",
    "\n",
    "browser = webdriver.Chrome()\n",
    "browser.get('http://parsinger.ru/html/watch/1/1_1.html')\n",
    "\n",
    "button = browser.find_element(By.ID, \"sale_button\").click()\n",
    "\n",
    "time.sleep(10)"
   ]
  },
  {
   "cell_type": "markdown",
   "metadata": {},
   "source": [
    "###### Устаревший"
   ]
  },
  {
   "cell_type": "markdown",
   "metadata": {},
   "source": [
    "- ```.find_element_by_id(\"tag\")``` — поиск по уникальному атрибуту id элемента. Лучше использовать именно поиск по id , т.к. мы знаем что  на странице может быть только 1 элемент с уникальным id, такой поиск является самым стабильным;\n",
    "- ```.find_element_by_css_selector(\"tag\")``` — используйте этот способ, когда хотите получить элемент с использованием синтаксиса CSS-селекторов;\n",
    "- ```.find_element_by_xpath(\"path\")``` — поиск с помощью языка запросов XPath, позволяет выполнять очень гибкий поиск элементов. Одно из веских оснований использовать XPath - ситуации, когда  на странице отсутствуют пригодные в качестве указателей атрибуты, такие как id или name;\n",
    "- ```.find_element_by_name(\"tag\")``` — используйте этот способ, когда известен атрибут name элемента. Результатом будет первый элемент с искомым значением атрибута name;\n",
    "- ```.find_element_by_tag_name(\"tag\")``` — поиск элемента по названию тега элемента;\n",
    "- ```.find_element_by_class_name(\"tag\")``` —поиск по значению атрибута class;\n",
    "- ```.find_element_by_link_text(\"tag\")``` — используйте этот способ, когда известен текст внутри тэга;\n",
    "- ```.find_element_by_partial_link_text(\"tag\")``` — поиск ссылки на странице, если текст селектора совпадает с любой частью текста ссылки."
   ]
  },
  {
   "cell_type": "code",
   "execution_count": null,
   "metadata": {},
   "outputs": [],
   "source": [
    "from selenium import webdriver\n",
    "\n",
    "browser = webdriver.Chrome()\n",
    "browser.get('http://parsinger.ru/html/watch/1/1_1.html')\n",
    "button = browser.find_element_by_id(\"sale_button\").click()\n",
    "time.sleep(10)"
   ]
  },
  {
   "cell_type": "markdown",
   "metadata": {},
   "source": [
    "### Основные методы Selenium"
   ]
  },
  {
   "cell_type": "markdown",
   "metadata": {},
   "source": [
    "```webdriver.back()``` - вернуться назад, равнозначно стрелочке \"назад\" в браузере;\n",
    "\n",
    "```webdriver.forward()``` - вернутся вперёд, равнозначно стрелочке \"вперёд\" в браузере;\n",
    "\n",
    "```webdriver.refresh()``` -  обновляет активную страницу в браузере, равнозначно стрелочке обновить;\n",
    "\n",
    "```webdriver.get_screenshot_as_file(\"../file_name.jpg\")``` - ожидает полной загрузки страницы и сохраняет скриншот в указанной папке. Возвращает False, если есть ошибка ввода-вывода, иначе возвращает True;\n",
    "\n",
    "```webdriver.save_screenshot(\"file_name.jpg\")``` - ожидает полной загрузки страницы и сохраняет скриншот в папке с проектом;\n",
    "\n",
    "```webdriver.get_screenshot_as_png()``` - сохраняет скриншот в виде двоичных данных, которые можно передать или сохранить в файл в конструкторе with/as;\n",
    "\n",
    "```webdriver.get_screenshot_as_base64()``` - после загрузки страницы получает скриншот текущего окна в виде строки в кодировке base64. Полезно во встроенных изображениях в HTML;\n",
    "\n",
    "```webdriver.get(\"http://example_url.ru\")``` - метод получает ссылку, которая откроется в браузере;\n",
    "\n",
    "```webdriver.quit()``` - метод разрывает все соединения, установленные браузером, очищает после себя оперативную память; \n",
    "\n",
    "```webdriver.close()``` - закрывает текущую вкладку;\n",
    "\n",
    "```webdriver.execute_script(\"script_code\")``` - исполняет на странице переданный JavaScript код;\n",
    "\n",
    "```webdriver.execute_async_script(\"script_code\" , *args )``` - асинхронно выполняет код JavaScript на странице;\n",
    "\n",
    "```webdriver.set_page_load_timeout()``` - устанавливает timeout ожидания загрузки страницы, после чего выбрасывает исключение;\n",
    "\n",
    "```webdriver.find_element(\"element\" or \"locator- By.\")``` - возвращает первый найденный элемент соответствующий локатору или элементу;\n",
    "\n",
    "```webdriver.find_elements(\"element\" or \"locator- By.\")``` - возвращает resultSet найденных элементов, с ним можно работать как со списком;\n",
    "\n",
    "```webdriver.get_window_position()``` - возвращает позицию открытого окна браузера, возвращается словарь {'x': 10, 'y': 50};\n",
    "\n",
    "```webdriver.maximize_window()``` - разворачивает текущее окно;\n",
    "\n",
    "```webdriver.minimize_window()``` - сворачивает текущее окно;\n",
    "\n",
    "```webdriver.fullscreen_window()```  - максимизирует активное окно браузера, аналогично нажатию клавиши F11;\n",
    "\n",
    "```webdriver.get_window_size()``` - получает текущий размер окна браузера + рамки окна и панель управления браузера, возвращает словарь {'width': 945, 'height': 1020};\n",
    "\n",
    "```webdriver.set_window_size(800,600)``` - устанавливает высоту и ширину браузера;\n",
    "\n",
    "```webdriver.get_cookies()```  - возвращает словарь с cookies;\n",
    "\n",
    "```webdriver.get_cookie(name_cookie)``` - возвращает набор cookie по его имени;\n",
    "\n",
    "```webdriver.add_cookie(cookie_dict)``` - добавляет cookie к вашему текущему сеансу;\n",
    "\n",
    "```webdriver.delete_cookie(name_cookie)``` - удаляет cookie с заданным именем;\n",
    "\n",
    "```webdriver.delete_all_cookies()``` - удаляет все файлы cookie в рамках текущего сеанса;\n",
    "\n",
    "```webdriver.implicitly_wait(10)``` - устанавливает неявное ожидание поиска элемента, или для команды завершения;"
   ]
  },
  {
   "cell_type": "code",
   "execution_count": 5,
   "metadata": {},
   "outputs": [
    {
     "name": "stdout",
     "output_type": "stream",
     "text": [
      "4168138981270992\n"
     ]
    }
   ],
   "source": [
    "import time\n",
    "from selenium.webdriver.common.by import By\n",
    "from seleniumwire import webdriver\n",
    "\n",
    "\n",
    "with webdriver.Chrome() as browser:\n",
    "    browser.maximize_window()\n",
    "    browser.get('https://parsinger.ru/methods/1/index.html')\n",
    "    result = ''\n",
    "    while True:\n",
    "        browser.refresh()\n",
    "        time.sleep(0.1)\n",
    "        result = browser.find_element(By.ID, 'result').text\n",
    "        if result.isdigit():\n",
    "            break\n",
    "\n",
    "    print(result)"
   ]
  },
  {
   "cell_type": "markdown",
   "metadata": {},
   "source": [
    "### Работа с Cookies"
   ]
  },
  {
   "cell_type": "code",
   "execution_count": 13,
   "metadata": {},
   "outputs": [
    {
     "name": "stdout",
     "output_type": "stream",
     "text": [
      "{'domain': '.ya.ru', 'expiry': 1729959153, 'httpOnly': False, 'name': 'yp', 'path': '/', 'sameSite': 'None', 'secure': True, 'value': '1697991152.ygu.1#4294967295.skin.s'}\n",
      "{'domain': '.ya.ru', 'expiry': 1697991153, 'httpOnly': False, 'name': 'yandex_gid', 'path': '/', 'sameSite': 'None', 'secure': True, 'value': '56'}\n",
      "{'domain': '.ya.ru', 'expiry': 1695406353, 'httpOnly': True, 'name': 'Session_id', 'path': '/', 'sameSite': 'None', 'secure': True, 'value': 'noauth:1695399151'}\n",
      "{'domain': '.ya.ru', 'expiry': 1729959153, 'httpOnly': False, 'name': 'mda2_beacon', 'path': '/', 'sameSite': 'None', 'secure': True, 'value': '1695399151764'}\n",
      "{'domain': '.ya.ru', 'httpOnly': False, 'name': 'ys', 'path': '/', 'sameSite': 'None', 'secure': True, 'value': 'c_chck.3231496372'}\n",
      "{'domain': '.ya.ru', 'expiry': 1726935153, 'httpOnly': False, 'name': 'yandex_login', 'path': '/', 'sameSite': 'None', 'secure': True, 'value': ''}\n",
      "{'domain': '.ya.ru', 'expiry': 1729959153, 'httpOnly': False, 'name': '_yasc', 'path': '/', 'sameSite': 'Lax', 'secure': True, 'value': 'kXcEqTv8nCSUQG+wSt2RPd/OVCCdQTeFlZdHFSRfZr2RWy+35BTkNTpIAFTg7hGB5VVSs1Q='}\n",
      "{'domain': 'ya.ru', 'expiry': 1726935152, 'httpOnly': False, 'name': 'bh', 'path': '/', 'sameSite': 'Lax', 'secure': False, 'value': 'EkAiR29vZ2xlIENocm9tZSI7dj0iMTE3IiwgIk5vdDtBPUJyYW5kIjt2PSI4IiwgIkNocm9taXVtIjt2PSIxMTciGgUieDg2IiIPIjExNy4wLjU5MzguOTIiKgI/MDICIiI6CSJXaW5kb3dzIkIIIjEwLjAuMCJKBCI2NCJSWiJHb29nbGUgQ2hyb21lIjt2PSIxMTcuMC41OTM4LjkyIiwgIk5vdDtBPUJyYW5kIjt2PSI4LjAuMC4wIiwgIkNocm9taXVtIjt2PSIxMTcuMC41OTM4LjkyIloCPzA='}\n",
      "{'domain': '.ya.ru', 'expiry': 1726935152, 'httpOnly': False, 'name': 'yandex_csyr', 'path': '/', 'sameSite': 'Lax', 'secure': True, 'value': '1695399151'}\n",
      "{'domain': '.ya.ru', 'expiry': 1695405153, 'httpOnly': False, 'name': 'sso_status', 'path': '/', 'sameSite': 'Lax', 'secure': False, 'value': 'sso.passport.yandex.ru:synchronized'}\n",
      "{'domain': '.ya.ru', 'expiry': 1729959153, 'httpOnly': True, 'name': 'i', 'path': '/', 'sameSite': 'None', 'secure': True, 'value': 'ar+kIvvdfvSSUBGt7awBwVi3RtdXBnXD2fADbG4l9kdLjt8jjSGRER/WK85Fc6ese/KLWznQ87TNRtZCLG0qMKY29Vc='}\n",
      "{'domain': '.ya.ru', 'expiry': 1729959152, 'httpOnly': False, 'name': 'is_gdpr_b', 'path': '/', 'sameSite': 'None', 'secure': True, 'value': 'CLaqFBDzzwEoAg=='}\n",
      "{'domain': '.ya.ru', 'expiry': 1729959153, 'httpOnly': False, 'name': 'yandexuid', 'path': '/', 'sameSite': 'None', 'secure': True, 'value': '3030975441695399151'}\n",
      "{'domain': '.ya.ru', 'expiry': 1729959152, 'httpOnly': False, 'name': 'is_gdpr', 'path': '/', 'sameSite': 'None', 'secure': True, 'value': '0'}\n"
     ]
    }
   ],
   "source": [
    "from pprint import pprint\n",
    "from selenium import webdriver\n",
    "\n",
    "with webdriver.Chrome() as webdriver:\n",
    "    webdriver.get('https://ya.ru/')\n",
    "    cookies = webdriver.get_cookies()\n",
    "    for cookie in cookies:\n",
    "        print(cookie)\n",
    "        \n",
    "        "
   ]
  },
  {
   "cell_type": "markdown",
   "metadata": {},
   "source": [
    "-  \"name\" - устанавливает имя cookie-файла;\n",
    "- \"value\" - устанавливает значение cookie, это значение может либо идентифицировать пользователя, либо содержать любую другую служебную информацию;\n",
    "- \"expiry\" и \"max-age\" - определяет срок жизни cookie, после истечении этого срока cookie будет удален из памяти браузера. Если не указывать эти значения, содержимое cookie будет удалено после закрытия браузера (измеряется в секундах);\n",
    "- \"path\" - указывает путь к директории на сервере, для которой будут доступны cookie. Чтобы cookie были доступны по всему домену, необходимо указать / ;\n",
    "- \"domain\" - хранит в себе информацию о домене или поддомене, которые имеют доступ к этому cookie. Если необходимо, чтобы cookie были доступны по всему домену и всем поддоменам, указывается базовый домен, к примеру www.example.ru;\n",
    "- \"secure\" - указывает серверу, что cookie должны передаваться только по защищенному https-соединению;\n",
    "- \"httponly\"- параметр запрещает доступ к cookie посредством API браузера document.cookie. Предотвращает кражи cookie посредством XSS-атак. Если флаг установлен True, вы сможете получить доступ к этому cookie только через браузер, в том числе и через Selenium;\n",
    "- \"samesite\" - ограничивает передачу cookie между сайтами, предотвращает кражу cookie посредством XSS-атак. Имеет три состояния:\n",
    "- samesite=none - на передачу cookie нет никаких ограничений;\n",
    "- samesite=lax - разрешает передачу только безопасным HTTPS методом;\n",
    "- samesite=strict или samesite - самое строгое состояние, которое запрещает отправку cookie на другие сайты."
   ]
  },
  {
   "cell_type": "code",
   "execution_count": 14,
   "metadata": {},
   "outputs": [
    {
     "name": "stdout",
     "output_type": "stream",
     "text": [
      "[{'domain': '.parsinger.ru',\n",
      "  'expiry': 1729959519,\n",
      "  'httpOnly': True,\n",
      "  'name': 'any_name_cookie',\n",
      "  'path': '/',\n",
      "  'sameSite': 'Strict',\n",
      "  'secure': True,\n",
      "  'value': 'any_value_cookie'}]\n"
     ]
    }
   ],
   "source": [
    "import time\n",
    "from pprint import pprint\n",
    "from selenium import webdriver\n",
    "\n",
    "cookie_dict = {\n",
    "    'name': 'any_name_cookie',    # Любое имя для cookie\n",
    "    'value': 'any_value_cookie',  # Любое значение для cookie\n",
    "    'expiry': 2_000_000_000,      # Время жизни cookie в секундах\n",
    "    'path': '/',                  # Директория на сервере для которой будут доступны cookie\n",
    "    'domain': 'parsinger.ru',     # Информация о домене и поддомене для которых доступны cookie\n",
    "    'secure': True,  # or False   # Сигнал браузера о том что передать cookie только по защищённому HTTPS\n",
    "    'httpOnly': True,  # or False # Ограничивает доступ к cookie по средствам API\n",
    "    'sameSite': 'Strict',  # or lax or none # Ограничение на передачу cookie между сайтами\n",
    "}\n",
    "\n",
    "with webdriver.Chrome() as webdriver:\n",
    "    webdriver.get('https://parsinger.ru/methods/4/index.html')\n",
    "    webdriver.add_cookie(cookie_dict)\n",
    "    pprint(webdriver.get_cookies())\n",
    "    time.sleep(100)\n"
   ]
  },
  {
   "cell_type": "code",
   "execution_count": 31,
   "metadata": {},
   "outputs": [],
   "source": [
    "from selenium import webdriver\n",
    "from selenium.webdriver.common.by import By\n",
    "result_links = []\n",
    "\n",
    "with webdriver.Chrome() as webdriver:\n",
    "    webdriver.get('https://parsinger.ru/methods/5/index.html')\n",
    "    for link in webdriver.find_elements(By.TAG_NAME, 'a'):\n",
    "        result_links.append(link.get_attribute('href'))"
   ]
  },
  {
   "cell_type": "code",
   "execution_count": 47,
   "metadata": {},
   "outputs": [],
   "source": [
    "from selenium import webdriver\n",
    "from selenium.webdriver.common.by import By\n",
    "\n",
    "result = []\n",
    "\n",
    "\n",
    "with webdriver.Chrome() as webdriver:\n",
    "    for link in result_links:\n",
    "            webdriver.get(link)\n",
    "            result.append({'num':webdriver.find_element(By.ID,'result').text, \n",
    "                           'expiry': int(webdriver.get_cookie('foo2')['expiry'])})\n",
    "            "
   ]
  },
  {
   "cell_type": "code",
   "execution_count": 55,
   "metadata": {},
   "outputs": [
    {
     "name": "stdout",
     "output_type": "stream",
     "text": [
      "{'num': '5612340463235446253440', 'expiry': 1695461578}\n",
      "{'num': '3221343546245034426353441', 'expiry': 1696127579}\n",
      "{'num': '65534024563234415653424051', 'expiry': 1696265579}\n",
      "{'num': '562434032324156532454501334551', 'expiry': 1696415579}\n",
      "{'num': '512347403223114231350442136341', 'expiry': 1696577579}\n",
      "{'num': '56324405323415332455403465', 'expiry': 1696751580}\n",
      "{'num': '34856574032463512334251043321', 'expiry': 1696937580}\n",
      "{'num': '23615440323142335440', 'expiry': 1697135580}\n",
      "{'num': '4564563450653424533421533425', 'expiry': 1697345580}\n",
      "{'num': '56345460633544260643516034356', 'expiry': 1697567580}\n",
      "{'num': '56203465534644655644532601', 'expiry': 1697801580}\n",
      "{'num': '6253440263533246103542640165', 'expiry': 1698047580}\n",
      "{'num': '546354605634540256345444236504', 'expiry': 1698305580}\n",
      "{'num': '6523404623443645640645054', 'expiry': 1698575580}\n",
      "{'num': '156234064613451453261041', 'expiry': 1698857580}\n",
      "{'num': '4245635034423656435465061321', 'expiry': 1699151581}\n",
      "{'num': '6532440565344652305416543415', 'expiry': 1699457581}\n",
      "{'num': '265344062354426355410343041', 'expiry': 1699775581}\n",
      "{'num': '62534406235441623540563544606345061', 'expiry': 1700105581}\n",
      "{'num': '652340465234462530445245340', 'expiry': 1700447581}\n",
      "{'num': '56548056738041325340462331', 'expiry': 1700801581}\n",
      "{'num': '652434053244112633544023654', 'expiry': 1701167581}\n",
      "{'num': '452630465234406534123043213441', 'expiry': 1701401579}\n",
      "{'num': '523404323044632534402635404', 'expiry': 1701545581}\n",
      "{'num': '534640535340543654054', 'expiry': 1701701578}\n",
      "{'num': '56344056534450623440563445', 'expiry': 1701935581}\n",
      "{'num': '89674345665434566546235454236445', 'expiry': 1702337582}\n",
      "{'num': '653456433415623454512036545423', 'expiry': 1702751582}\n",
      "{'num': '5623443234142365446563456456', 'expiry': 1703177582}\n",
      "{'num': '628434632341462384746', 'expiry': 1703615582}\n",
      "{'num': '68237446323544236746434', 'expiry': 1704065582}\n",
      "{'num': '68374456334156324456344', 'expiry': 1704527582}\n",
      "{'num': '62534426334426344236544', 'expiry': 1705001582}\n",
      "{'num': '6853445632344562344568345', 'expiry': 1705487582}\n",
      "{'num': '6834564635435644536646', 'expiry': 1705631579}\n",
      "{'num': '6989354466345246645435', 'expiry': 1705985582}\n",
      "{'num': '65496784193784135146654', 'expiry': 1706201578}\n",
      "{'num': '56345433124522344655434565', 'expiry': 1711781579}\n",
      "{'num': '3565464355464356746345674566574', 'expiry': 1716101579}\n",
      "{'num': '5623441334657443567165456765564', 'expiry': 1718351579}\n",
      "{'num': '152456344534635776463332454', 'expiry': 1720481579}\n",
      "{'num': '563244506345412334251234560541', 'expiry': 1729961578}\n"
     ]
    }
   ],
   "source": [
    "\n",
    "\n",
    "\n",
    "for r in sorted(result, key=lambda x: x['expiry']):\n",
    "    print(r)"
   ]
  },
  {
   "cell_type": "markdown",
   "metadata": {},
   "source": [
    "### .execute_script()"
   ]
  },
  {
   "cell_type": "markdown",
   "metadata": {},
   "source": [
    "Синтаксис ```webdriver.execute_script(script, *args)```.\n",
    "\n",
    "Все события:\n",
    " - [Document](https://developer.mozilla.org/ru/docs/Web/API/Document)\n",
    " - [Window](https://developer.mozilla.org/ru/docs/Web/API/Window)"
   ]
  },
  {
   "cell_type": "markdown",
   "metadata": {},
   "source": [
    "##### Самые распространенные\n",
    "\n",
    "```.execute_script(\"return arguments[0].scrollIntoView(true);\", element)``` - прокручивает родительский контейнер элемента таким образом, чтобы element, для которого вызывается scrollIntoView , был виден пользователю ;\n",
    "\n",
    "```.execute_script(\"window.open('http://parsinger.ru', 'tab2');\")``` - создаст новую вкладку с именем \"tab2\";\n",
    "\n",
    "```.execute_script(\"return document.body.scrollHeight\")``` - вернет значение высоты элемента<body>;\n",
    "\n",
    "```.execute_script(\"return window.innerHeight\")``` - вернет значение высоты окна браузера;\n",
    "\n",
    "```.execute_script(\"return window.innerWidth\")``` - вернет значение ширину окна браузера;\n",
    "\n",
    "```.execute_script(\"window.scrollBy(X, Y)\")``` - прокручивает документ на заданное число пикселей;\n",
    "    X - смещение в пикселях по горизонтали;\n",
    "    Y - смещение в пикселях по вертикали.\n",
    "\n",
    "```.execute_script(\"alert('Ура Selenium')\")``` - вызывает модальное окно Alert;\n",
    "\n",
    "```.execute_script(\"return document.title;\")``` - вернет title открытого документа;\n",
    "\n",
    "```.execute_script(\"return document.documentURI;\")``` - возвращает URI документа;\n",
    "\n",
    "```.execute_script(\"return document.readyState;\")``` - возвращает состояние загрузки страницы, вернет complete если страница загрузилась;\n",
    "\n",
    "```.execute_script(\"return document.anchors;\")``` - возвращает список всех якорей;\n",
    "    [x.tag_name for x in browser.execute_script(\"return document.anchors;\")] - такой код даст возможность получить список всех тегов c якорями. Очень полезная инструкция, используется, если при скроллинге мы не можем найти элемент, за который можно \"зацепится\" ;\n",
    "\n",
    "```.execute_script(\"return document.cookie;\")```  - возвращает список файлов cookie, разделенных точкой с запятой;\n",
    "\n",
    "```.execute_script(\"return document.domain;\")``` - возвращает домен текущего документа;\n",
    "\n",
    "```.execute_script(\"return document.forms;\")``` - вернет список форм;\n",
    "\n",
    "```window.scrollTo(x-coord, y-coord)``` - прокрутка документа до указанных координат;\n",
    "    x-coord пиксель по горизонтальной оси документа, будет отображен вверху слева;\n",
    "    y-coord пиксель по вертикальной оси документа, будет отображен вверху слева.\n",
    "\n",
    "```.execute_script(\"return document.getElementsByClassName('container');\")```  - возвращает список всех элементов с заданным классом class=\"container\";\n",
    "    \n",
    "```.execute_script(\"return document.getElementsByTagName('container');\")``` - возвращает список всех элементов с заданным именем name=\"container\".\n"
   ]
  },
  {
   "cell_type": "markdown",
   "metadata": {},
   "source": [
    "### ActionChains(browser)"
   ]
  },
  {
   "cell_type": "markdown",
   "metadata": {},
   "source": [
    "###### Методы \n",
    "\n",
    "```.click(element)``` - выполняет клик по элементу;\n",
    "\n",
    "```.click_and_hold(element)``` - метод используется для удержания левой кнопки мыши на элементе; \n",
    "\n",
    "```.context_click(element)``` - используется для выполнения контекстного щелчка (щелчка правой кнопкой мыши) по элементу;\n",
    "\n",
    "```.drag_and_drop(source, target)```  - удерживает левую кнопку мыши на исходном элементе, затем перемещается к целевому элементу и отпускает кнопку мыши.  .drag_and_drop (источник, цель);\n",
    "\n",
    "```.release(self, on_element=None)```  - метод release используется для отпускания удерживаемой кнопки мыши на элементе;\n",
    "\n",
    "```.drag_and_drop_by_offset(source, xoffset, yoffset)```  - удерживает левую кнопку мыши на исходном элементе, затем перемещается к целевому смещению и отпускает кнопку мыши;\n",
    "    source: элемент для мыши;\n",
    "    xoffset: X смещение для перехода;\n",
    "    yoffset: Y смещение для перехода.\n",
    "\n",
    "```.key_down(value, element)```  - используется для отправки нажатия клавиши без ее отпускания. Этот метод используется в случае, если нужно нажать ctrl+c или ctrl+v. Для этого нужно сначала удерживать клавишу ctrl, а затем нажать c. Этот метод автоматизирует эту работу. Его следует использовать только с клавишами-модификаторами (Control, Alt и Shift);\n",
    "    value: значения  клавиш определены в классе Keys. Все клавиши можно посмотреть в этом степе;\n",
    "    element: элемент для отправки ключей. Если нет, отправляет ключ текущему элементу в фокусе.\n",
    "\n",
    "```.key_up(value, element)```  - метод используется для отпускания нажатой клавиши с помощью метода key_down; \n",
    "\n",
    "```.move_by_offset(xoffset, yoffset)```  - метод  используется для перемещения мыши на смещение от текущей позиции мыши;\n",
    "\n",
    "```.move_to_element(to_element)```  - метод используется для перемещения мыши в середину элемента;\n",
    "\n",
    "```.move_to_element_with_offset(to_element, xoffset, yoffset)```  - метод используется для перемещения мыши на смещение указанного элемента. Смещения относятся к верхнему левому углу элемента;\n",
    "    to_element: WebElement, к которому нужно перейти;\n",
    "    xoffset: X смещение для перехода;\n",
    "    yoffset: Y смещение для перехода.\n",
    "\n",
    "```.pause(seconds)```  - метод паузы используется для приостановки всех входных данных на указанное время в секундах. Метод паузы очень важен и полезен в случае выполнения какой-либо команды, для загрузки которой требуется какой-либо javascript, или в подобной ситуации, когда между двумя операциями есть временной промежуток;\n",
    "\n",
    "```.send_keys(keys_to_send)```  - метод используется для отправки ключей текущему элементу в фокусе;\n",
    "    keys_to_send :  значения  клавиш определены в классе Keys. Все клавиши можно посмотреть в этом степе;\n",
    "        Пример .send_keys_to_element(keys.DOWN);\n",
    "\n",
    "```.send_keys_to_element(element, *keys_to_send)```  - метод используется для отправки ключей текущему элементу в фокусе;\n",
    "\n",
    "    keys_to_send :  значения  клавиш определены в классе Keys. Все клавиши можно посмотреть в этом степе;\n",
    "\n",
    "```.scroll(x, y, delta_x, delta_y, duration, origin=element)```  -  выполняет скроллинг на элементе, где установлен курсор. Очень полезный скроллинг, позволяет прицельно скролить окна маленьких размеров;\n",
    "    x: координаты курсора по горизонтали;\n",
    "    y: координаты курсора по вертикали;\n",
    "    delta_x: расстояние, на которое мышь будет прокручиваться по оси X;\n",
    "    delta_y: расстояние, на которое мышь будет прокручиваться по оси Y;\n",
    "    duration: задержка перед скроллингом;\n",
    "    origin: целевой элемент, прокрутка будет осуществлена к нему, если он загружен и имеется в дереве HTML.\n",
    "\n",
    "```.reset_actions(self)``` - метод очищает действия, которые уже сохранены локально и в ActionChains. Это один из наиболее часто используемых методов, так как после какой-либо операции необходимо сбросить экземпляр ActionChains для выполнения следующей операции;\n",
    "```.perform(self)```  - метод  используется для выполнения всех сохраненных операций в экземпляре действия класса ActionChains.\n"
   ]
  },
  {
   "cell_type": "markdown",
   "metadata": {},
   "source": [
    "### Модальные окна"
   ]
  },
  {
   "cell_type": "markdown",
   "metadata": {},
   "source": [
    "\n",
    "\n",
    "```.switch_to``` - переключает фокус на модальное окно;\n",
    "\n",
    "```.accept()``` - нажимает на кнопку \"OK\" в модальном окне;\n",
    "\n",
    "```.dismiss()``` - нажимает на кнопку \"Отмена\" в модальном окне;\n",
    "\n",
    "```.send_keys()``` - отправляет текст в текстовое поле в модальном окне;\n",
    "\n",
    "```.text``` - возвращает title модального окна."
   ]
  },
  {
   "cell_type": "markdown",
   "metadata": {},
   "source": [
    "###### Example Alert"
   ]
  },
  {
   "cell_type": "code",
   "execution_count": 4,
   "metadata": {},
   "outputs": [
    {
     "name": "stdout",
     "output_type": "stream",
     "text": [
      "Это модальное окно alert\n"
     ]
    }
   ],
   "source": [
    "from selenium import webdriver\n",
    "from selenium.webdriver.common.by import By\n",
    "from time import sleep\n",
    "\n",
    "with webdriver.Chrome() as browser:\n",
    "    browser.get('http://parsinger.ru/blank/modal/1/index.html')\n",
    "    browser.find_element(By.CSS_SELECTOR, '#alert').click()\n",
    "    sleep(2)\n",
    "    alert = browser.switch_to.alert\n",
    "    print(alert.text)\n",
    "    sleep(5)\n",
    "    alert.accept()"
   ]
  },
  {
   "cell_type": "markdown",
   "metadata": {},
   "source": [
    "###### Example Prompt"
   ]
  },
  {
   "cell_type": "code",
   "execution_count": 2,
   "metadata": {},
   "outputs": [
    {
     "name": "stdout",
     "output_type": "stream",
     "text": [
      "Вы ввели: Ввод любого текста\n"
     ]
    }
   ],
   "source": [
    "import time\n",
    "from selenium import webdriver\n",
    "from selenium.webdriver.common.by import By\n",
    "\n",
    "with webdriver.Chrome() as browser:\n",
    "    browser.get('http://parsinger.ru/blank/modal/1/index.html')\n",
    "    browser.find_element(By.ID, 'prompt').click()\n",
    "    time.sleep(2)\n",
    "    prompt = browser.switch_to.alert\n",
    "    prompt.send_keys('Ввод любого текста')\n",
    "    prompt.accept()\n",
    "    time.sleep(.5)\n",
    "    print(browser.find_element(By.ID, 'result').text)"
   ]
  },
  {
   "cell_type": "markdown",
   "metadata": {},
   "source": [
    "###### Example Confirm"
   ]
  },
  {
   "cell_type": "code",
   "execution_count": 3,
   "metadata": {},
   "outputs": [],
   "source": [
    "import time\n",
    "from selenium import webdriver\n",
    "from selenium.webdriver.common.by import By\n",
    "\n",
    "with webdriver.Chrome() as browser:\n",
    "    browser.get('http://parsinger.ru/blank/modal/1/index.html')\n",
    "    browser.find_element(By.ID, 'confirm').click()\n",
    "    time.sleep(2)\n",
    "    prompt = browser.switch_to.alert\n",
    "    prompt.accept() #Замените на .dismiss() чтобы нажать на кнопку \"Отмена\"\n",
    "    time.sleep(.5)"
   ]
  },
  {
   "cell_type": "markdown",
   "metadata": {},
   "source": [
    "## Test"
   ]
  },
  {
   "cell_type": "code",
   "execution_count": 10,
   "metadata": {},
   "outputs": [
    {
     "name": "stdout",
     "output_type": "stream",
     "text": [
      "867413857416874163897546183542\n"
     ]
    }
   ],
   "source": [
    "from selenium import webdriver\n",
    "from selenium.webdriver.common.by import By\n",
    "from time import sleep\n",
    "\n",
    "\n",
    "with webdriver.Chrome() as browser:\n",
    "    browser.maximize_window()\n",
    "    browser.get('https://parsinger.ru/blank/modal/3/index.html')\n",
    "    input = browser.find_element(By.ID,'input')\n",
    "    check = browser.find_element(By.ID,'check')\n",
    "\n",
    "\n",
    "    for btn in browser.find_elements(By.CSS_SELECTOR, '.buttons'):\n",
    "        btn.click()\n",
    "        alert = browser.switch_to.alert\n",
    "        PIN = alert.text\n",
    "        alert.accept()\n",
    "        input.send_keys(PIN)\n",
    "        check.click()\n",
    "        sleep(0.2)\n",
    "        result = browser.find_element(By.ID, 'result')\n",
    "        if result.text != 'Неверный пин-код':\n",
    "            print(result.text)\n",
    "            break"
   ]
  }
 ],
 "metadata": {
  "kernelspec": {
   "display_name": "venv",
   "language": "python",
   "name": "python3"
  },
  "language_info": {
   "codemirror_mode": {
    "name": "ipython",
    "version": 3
   },
   "file_extension": ".py",
   "mimetype": "text/x-python",
   "name": "python",
   "nbconvert_exporter": "python",
   "pygments_lexer": "ipython3",
   "version": "3.11.2"
  },
  "orig_nbformat": 4
 },
 "nbformat": 4,
 "nbformat_minor": 2
}
