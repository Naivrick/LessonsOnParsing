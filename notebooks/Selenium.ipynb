{
 "cells": [
  {
   "cell_type": "markdown",
   "metadata": {},
   "source": [
    "# Selenium"
   ]
  },
  {
   "cell_type": "markdown",
   "metadata": {},
   "source": [
    "### Простые примеры"
   ]
  },
  {
   "cell_type": "code",
   "execution_count": 2,
   "metadata": {},
   "outputs": [],
   "source": [
    "import time\n",
    "from selenium import webdriver\n",
    "\n",
    "URL = 'https://stepik.org/a/104774'\n",
    "browser = webdriver.Chrome()\n",
    "browser.get(URL)\n",
    "time.sleep(5)"
   ]
  },
  {
   "cell_type": "markdown",
   "metadata": {},
   "source": [
    "Запуск браузера в скрытом режиме"
   ]
  },
  {
   "cell_type": "code",
   "execution_count": 19,
   "metadata": {},
   "outputs": [
    {
     "name": "stdout",
     "output_type": "stream",
     "text": [
      "https://ya.ru/?open_keyboard=1\n"
     ]
    }
   ],
   "source": [
    "from selenium import webdriver\n",
    "from selenium.webdriver.common.by import By\n",
    "\n",
    "options_chrome = webdriver.ChromeOptions()\n",
    "# options_chrome.add_argument('--headless') # --disable-gpu\n",
    "options_chrome.add_extension('D:\\MyProjectsPython\\LessonsOnParsing\\extension\\cor.crx') # Подключение расширения\n",
    "options_chrome.add_argument(\"--headless=chrome\") # браузер с расширениями  и в режиме --headless\n",
    "\n",
    "\n",
    "with webdriver.Chrome(options=options_chrome) as browser:\n",
    "    URL = 'https://yandex.ru/'\n",
    "    browser.get(url=URL)\n",
    "    a = browser.find_element(By.TAG_NAME, 'a')\n",
    "    print(a.get_attribute('href'))"
   ]
  },
  {
   "cell_type": "markdown",
   "metadata": {},
   "source": [
    "Перенос профиля с основного браузера Chrome в браузер под управлением Selenium"
   ]
  },
  {
   "cell_type": "code",
   "execution_count": 32,
   "metadata": {},
   "outputs": [],
   "source": [
    "import time\n",
    "from selenium import webdriver\n",
    "\n",
    "options_chrome = webdriver.ChromeOptions()\n",
    "options_chrome.add_argument(r\"user-data-dir=C:\\Users\\UserName\\AppData\\Local\\Google\\Chrome\\User Data\")\n",
    "with webdriver.Chrome(options=options_chrome) as browser:\n",
    "    URL = 'https://stepik.org/learn?auth=login'\n",
    "    browser.get(URL)\n",
    "    time.sleep(10) "
   ]
  },
  {
   "cell_type": "markdown",
   "metadata": {},
   "source": [
    "Работа с прокси в Selenium"
   ]
  },
  {
   "cell_type": "code",
   "execution_count": 36,
   "metadata": {},
   "outputs": [
    {
     "name": "stdout",
     "output_type": "stream",
     "text": [
      "77.222.99.66\n"
     ]
    }
   ],
   "source": [
    "import time\n",
    "from selenium import webdriver\n",
    "from selenium.webdriver.common.by import By\n",
    "\n",
    "option = webdriver.ChromeOptions()\n",
    "option.add_argument('--headless')\n",
    "\n",
    "URL = 'https://2ip.ru/'\n",
    "with webdriver.Chrome(options=option) as browser:\n",
    "    browser.get(URL)\n",
    "    #time.sleep(5)\n",
    "    print(browser.find_element(By.ID, 'd_clip_button').text)\n",
    "    #print(time.sleep(5))"
   ]
  },
  {
   "cell_type": "code",
   "execution_count": 68,
   "metadata": {},
   "outputs": [
    {
     "name": "stdout",
     "output_type": "stream",
     "text": [
      "Прокси: 35.236.207.242:33333\n",
      "35.236.207.242\n"
     ]
    }
   ],
   "source": [
    "from eggs.MyProxy import GetRandomProxy\n",
    "import time\n",
    "from selenium import webdriver\n",
    "from selenium.webdriver.common.by import By\n",
    "\n",
    "proxy = \"35.236.207.242:33333\"#GetRandomProxy()  # Прокси формата 'IP:PORT'\n",
    "URL = 'https://2ip.ru/'\n",
    "\n",
    "print(f\"Прокси: {proxy}\")\n",
    "\n",
    "chrome_options = webdriver.ChromeOptions()\n",
    "chrome_options.add_argument(f'--proxy-server={proxy}')\n",
    "\n",
    "with webdriver.Chrome(options=chrome_options) as browser:\n",
    "    browser.get(URL)\n",
    "    browser.set_page_load_timeout(5)\n",
    "    time.sleep(10)\n",
    "    print(browser.find_element(By.ID, 'd_clip_button').find_element(\n",
    "        By.TAG_NAME, 'span').text)\n",
    "    browser.set_page_load_timeout(5)"
   ]
  },
  {
   "cell_type": "code",
   "execution_count": null,
   "metadata": {},
   "outputs": [],
   "source": [
    "from eggs.MyProxy import list_proxy\n",
    "from selenium import webdriver\n",
    "from selenium.webdriver.common.by import By\n",
    "\n",
    "URL = 'https://2ip.ru/'\n",
    "TIME_OUT = 10\n",
    "\n",
    "for proxy in list_proxy:\n",
    "    try:\n",
    "        option = webdriver.ChromeOptions()\n",
    "        option.add_argument(f'--proxy-server={proxy}')\n",
    "        \n",
    "        with webdriver.Chrome(options=option) as browser:\n",
    "            browser.get(url=URL)\n",
    "            browser.set_page_load_timeout(TIME_OUT)\n",
    "            #print(browser.find_element(By.ID, 'd_clip_button').find_element(By.TAG_NAME, 'span').text)\n",
    "            print(f'{proxy}')\n",
    "    except Exception as _:\n",
    "        #print(f\"Время ожидания превышено для {proxy}\")\n",
    "        continue"
   ]
  },
  {
   "cell_type": "markdown",
   "metadata": {},
   "source": [
    "Для работы прокси с авторизацией нужно дополнительно selenium-wire\n"
   ]
  },
  {
   "cell_type": "code",
   "execution_count": null,
   "metadata": {},
   "outputs": [],
   "source": [
    "\n",
    "import time\n",
    "from selenium.webdriver.common.by import By\n",
    "from seleniumwire import webdriver\n",
    "\n",
    "\n",
    "option = {'proxy': {\n",
    "     'http': f'http://name:pass@ip:port',\n",
    "     'https': f'http://name:pass@ip:port'\n",
    " }}\n",
    "\n",
    "URL = 'https://2ip.ru/'\n",
    "TIME_OUT = 10\n",
    "\n",
    "with webdriver.Chrome(seleniumwire_options=option) as browser:\n",
    "    browser.get(URL)\n",
    "    browser.set_page_load_timeout = TIME_OUT\n",
    "    print(browser.find_element(By.ID ,'d_clip_button').find_element(By.TAG_NAME, 'span').text)"
   ]
  },
  {
   "cell_type": "markdown",
   "metadata": {},
   "source": [
    "### Поиск элементов"
   ]
  },
  {
   "cell_type": "markdown",
   "metadata": {},
   "source": [
    "#### 2 способа"
   ]
  },
  {
   "cell_type": "markdown",
   "metadata": {},
   "source": [
    "##### Локаторы"
   ]
  },
  {
   "cell_type": "markdown",
   "metadata": {},
   "source": [
    "Нужно импортировать\n",
    "```from selenium.webdriver.common.by import By```\n",
    "\n",
    "Локаторы играют очень важную роль при работе с Selenium. Они обеспечивают путь к веб-элементам, которые необходимы для автоматизации определенных действий, таких как клик, ввод, установка флага и др.\n",
    "\n",
    " ```By.ID``` – поиск по уникальному атрибуту id элемента;\n",
    "\n",
    " ```By.CSS_SELECTOR``` –поиск элементов с помощью правил на основе CSS;\n",
    "\n",
    " ```By.XPATH``` – поиск элементов с помощью языка запросов XPath;\n",
    "\n",
    " ```By.NAME``` – поиск по атрибуту name элемента;\n",
    "\n",
    " ```By.TAG_NAME``` – поиск по названию тега;\n",
    "\n",
    " ```By.CLASS_NAME``` – поиск по атрибуту class элемента;\n",
    "\n",
    " ```By.LINK_TEXT``` – поиск ссылки с указанным текстом. Текст ссылки должен быть точным совпадением;\n",
    "\n",
    " ```By.PARTIAL_LINK_TEXT``` – Поиск ссылки по частичному совпадению текста.\n",
    " \n",
    "Локаторы мы используем с помощью двух универсальных методов - ```find_element()```, который возвращает ровно один элемент, найденный первым, и ```find_elements()```, который возвращает список найденных элементов. "
   ]
  },
  {
   "cell_type": "code",
   "execution_count": null,
   "metadata": {},
   "outputs": [],
   "source": [
    "from selenium import webdriver\n",
    "from selenium.webdriver.common.by import By\n",
    "\n",
    "browser = webdriver.Chrome()\n",
    "browser.get('http://parsinger.ru/html/watch/1/1_1.html')\n",
    "\n",
    "button = browser.find_element(By.ID, \"sale_button\").click()\n",
    "\n",
    "time.sleep(10)"
   ]
  },
  {
   "cell_type": "markdown",
   "metadata": {},
   "source": [
    "###### Устаревший"
   ]
  },
  {
   "cell_type": "markdown",
   "metadata": {},
   "source": [
    "- ```.find_element_by_id(\"tag\")``` — поиск по уникальному атрибуту id элемента. Лучше использовать именно поиск по id , т.к. мы знаем что  на странице может быть только 1 элемент с уникальным id, такой поиск является самым стабильным;\n",
    "- ```.find_element_by_css_selector(\"tag\")``` — используйте этот способ, когда хотите получить элемент с использованием синтаксиса CSS-селекторов;\n",
    "- ```.find_element_by_xpath(\"path\")``` — поиск с помощью языка запросов XPath, позволяет выполнять очень гибкий поиск элементов. Одно из веских оснований использовать XPath - ситуации, когда  на странице отсутствуют пригодные в качестве указателей атрибуты, такие как id или name;\n",
    "- ```.find_element_by_name(\"tag\")``` — используйте этот способ, когда известен атрибут name элемента. Результатом будет первый элемент с искомым значением атрибута name;\n",
    "- ```.find_element_by_tag_name(\"tag\")``` — поиск элемента по названию тега элемента;\n",
    "- ```.find_element_by_class_name(\"tag\")``` —поиск по значению атрибута class;\n",
    "- ```.find_element_by_link_text(\"tag\")``` — используйте этот способ, когда известен текст внутри тэга;\n",
    "- ```.find_element_by_partial_link_text(\"tag\")``` — поиск ссылки на странице, если текст селектора совпадает с любой частью текста ссылки."
   ]
  },
  {
   "cell_type": "code",
   "execution_count": null,
   "metadata": {},
   "outputs": [],
   "source": [
    "from selenium import webdriver\n",
    "\n",
    "browser = webdriver.Chrome()\n",
    "browser.get('http://parsinger.ru/html/watch/1/1_1.html')\n",
    "button = browser.find_element_by_id(\"sale_button\").click()\n",
    "time.sleep(10)"
   ]
  },
  {
   "cell_type": "markdown",
   "metadata": {},
   "source": [
    "### Работаем с браузером"
   ]
  }
 ],
 "metadata": {
  "kernelspec": {
   "display_name": "venv",
   "language": "python",
   "name": "python3"
  },
  "language_info": {
   "codemirror_mode": {
    "name": "ipython",
    "version": 3
   },
   "file_extension": ".py",
   "mimetype": "text/x-python",
   "name": "python",
   "nbconvert_exporter": "python",
   "pygments_lexer": "ipython3",
   "version": "3.11.2"
  },
  "orig_nbformat": 4
 },
 "nbformat": 4,
 "nbformat_minor": 2
}
