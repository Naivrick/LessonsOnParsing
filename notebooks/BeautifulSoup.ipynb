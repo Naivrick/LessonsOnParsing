{
  "cells": [
    {
      "cell_type": "markdown",
      "metadata": {},
      "source": [
        "\n",
        "# Beautiful Soup\n"
      ]
    },
    {
      "attachments": {},
      "cell_type": "markdown",
      "metadata": {},
      "source": [
        "### Виды парсеров"
      ]
    },
    {
      "attachments": {},
      "cell_type": "markdown",
      "metadata": {},
      "source": [
        "\n",
        "\n",
        "| **Парсер**  | **Типичное использование**                                                                   | **Преимущества**                                         | **Недостатки**                                            |\n",
        "|-------------|----------------------------------------------------------------------------------------------|----------------------------------------------------------|-----------------------------------------------------------|\n",
        "| html.parser | BeautifulSoup(markup, 'html.parser')                                                         | - *мягкий                                                | - не такой быстрый, как LXML, менее *мягкий, чем html5lib |\n",
        "| lxml        | BeautifulSoup(markup, 'lxml')                                                                | - очень быстрый - * мягкий                               | - внешняя зависимость                                     |\n",
        "| xml         | BeautifulSoup(markup, 'xml') или BeautifulSoup(markup, 'lxml-xml') | - очень быстрый - Поддерживаемый парсер XML              | - внешняя зависимость                                     |\n",
        "| html5lib    | BeautifulSoup(markup, 'html5lib')                                                            | - *мягкий - разбирает как браузер - Действительный HTML5 | - Очень медленный - внешняя зависимость python            |\n",
        "\n",
        "\n",
        "* **мягкий** парсер не проверяет соответствие открывающих и закрывающих тегов. Другими словами, мягкие парсеры будут собирать разметку с сайта, даже если она некорректна или сломана."
      ]
    },
    {
      "attachments": {},
      "cell_type": "markdown",
      "metadata": {},
      "source": [
        "## Методы Beautifulsoup"
      ]
    },
    {
      "attachments": {},
      "cell_type": "markdown",
      "metadata": {},
      "source": [
        "### .find\n",
        "\n",
        "\n",
        "Ищет первый элемент"
      ]
    },
    {
      "cell_type": "code",
      "execution_count": 13,
      "metadata": {},
      "outputs": [
        {
          "name": "stdout",
          "output_type": "stream",
          "text": [
            "<h1>Hello World</h1>\n",
            "--------------------------------------------------\n",
            "<p class=\"info\">This is a paragraph.</p>\n"
          ]
        }
      ],
      "source": [
        "# Example 1\n",
        "\n",
        "html_doc = \"\"\"\n",
        "<html>\n",
        "    <head>\n",
        "        <title>Example Page</title>\n",
        "    </head>\n",
        "    <body>\n",
        "        <h1>Hello World</h1>\n",
        "        <p class=\"info\">This is a paragraph.</p>\n",
        "        <p class=\"info\">This is another paragraph.</p>\n",
        "    </body>\n",
        "</html>\n",
        "\"\"\"\n",
        "\n",
        "soup = BeautifulSoup(html_doc, 'html.parser')\n",
        "\n",
        "# Найдёт первый тег H1\n",
        "firs_h1 = soup.find('h1')\n",
        "print(firs_h1)\n",
        "\n",
        "Delimiter()\n",
        "\n",
        "# Найдёт первый тег P с классом 'info'\n",
        "first_p = soup.find('p', {'class': 'info'})\n",
        "print(first_p)\n"
      ]
    },
    {
      "cell_type": "code",
      "execution_count": 19,
      "metadata": {},
      "outputs": [
        {
          "name": "stdout",
          "output_type": "stream",
          "text": [
            "<div id=\"main\">\n",
            "<h1>Hello World</h1>\n",
            "<p class=\"info\">This is a paragraph.</p>\n",
            "<p class=\"info\">This is another paragraph.</p>\n",
            "<ul>\n",
            "<li>Item 1</li>\n",
            "<li>Item 2</li>\n",
            "<li>Item 3</li>\n",
            "</ul>\n",
            "</div>\n",
            "\n",
            "--------------------------------------------------\n",
            "\n",
            "[<p class=\"info\">This is a paragraph.</p>, <p class=\"info\">This is another paragraph.</p>]\n",
            "\n",
            "--------------------------------------------------\n",
            "\n",
            "[<ul>\n",
            "<li>Item 1</li>\n",
            "<li>Item 2</li>\n",
            "<li>Item 3</li>\n",
            "</ul>]\n"
          ]
        }
      ],
      "source": [
        "# Example 2\n",
        "\n",
        "html_doc = \"\"\"\n",
        "<html>\n",
        "    <head>\n",
        "        <title>Example Page</title>\n",
        "    </head>\n",
        "    <body>\n",
        "        <div id=\"main\">\n",
        "            <h1>Hello World</h1>\n",
        "            <p class=\"info\">This is a paragraph.</p>\n",
        "            <p class=\"info\">This is another paragraph.</p>\n",
        "            <ul>\n",
        "                <li>Item 1</li>\n",
        "                <li>Item 2</li>\n",
        "                <li>Item 3</li>\n",
        "            </ul>\n",
        "        </div>\n",
        "        <div id=\"secondary\">\n",
        "            <p>Some additional information.</p>\n",
        "        </div>\n",
        "    </body>\n",
        "</html>\n",
        "\"\"\"\n",
        "\n",
        "soup = BeautifulSoup(html_doc, 'html.parser')\n",
        "\n",
        "# div с id 'main'\n",
        "main_div = soup.find('div', {'id': 'main'})\n",
        "print(main_div)\n",
        "\n",
        "Delimiter()\n",
        "\n",
        "main_p = soup('p', {'class': 'info'})\n",
        "print(main_p)\n",
        "\n",
        "Delimiter()\n",
        "\n",
        "main_ul = soup('ul')\n",
        "print(main_ul)"
      ]
    },
    {
      "cell_type": "code",
      "execution_count": 20,
      "metadata": {},
      "outputs": [
        {
          "name": "stdout",
          "output_type": "stream",
          "text": [
            "<div id=\"main\">\n",
            "<h1>Hello World</h1>\n",
            "<p class=\"info\">This is a paragraph.</p>\n",
            "<p class=\"info\">This is another paragraph.</p>\n",
            "<ul>\n",
            "<li>Item 1</li>\n",
            "<li>Item 2</li>\n",
            "<li>Item 3</li>\n",
            "</ul>\n",
            "</div>\n",
            "\n",
            "--------------------------------------------------\n",
            "\n",
            "<p class=\"info\">This is a paragraph.</p>\n"
          ]
        }
      ],
      "source": [
        "# Example 3\n",
        "\n",
        "html_doc = \"\"\"\n",
        "<html>\n",
        "    <head>\n",
        "        <title>Example Page</title>\n",
        "    </head>\n",
        "    <body>\n",
        "        <div id=\"main\">\n",
        "            <h1>Hello World</h1>\n",
        "            <p class=\"info\">This is a paragraph.</p>\n",
        "            <p class=\"info\">This is another paragraph.</p>\n",
        "            <ul>\n",
        "                <li>Item 1</li>\n",
        "                <li>Item 2</li>\n",
        "                <li>Item 3</li>\n",
        "            </ul>\n",
        "        </div>\n",
        "        <div id=\"secondary\">\n",
        "            <p>Some additional information.</p>\n",
        "        </div>\n",
        "    </body>\n",
        "</html>\n",
        "\"\"\"\n",
        "\n",
        "soup = BeautifulSoup(html_doc, 'html.parser')\n",
        "\n",
        "# Найдите первый div с идентификатором «main»\n",
        "first_div = soup.find('div', {'id': 'main'})\n",
        "print(first_div)\n",
        "Delimiter()\n",
        "# Найдите первый тег p с классом \"info\"\n",
        "first_p = soup.find('p', {'class' : 'info'})\n",
        "print(first_p)\n"
      ]
    },
    {
      "attachments": {},
      "cell_type": "markdown",
      "metadata": {},
      "source": [
        "### .find_all()\n",
        "\n",
        "Ищет все элементы"
      ]
    },
    {
      "attachments": {},
      "cell_type": "markdown",
      "metadata": {},
      "source": [
        "##### Параметры \n",
        "\n",
        "\n",
        "```soup.find_all(self, name=None, attrs={}, recursive=True string=None, limit=None, **kwargs)```\n",
        "\n",
        "- ```name``` - Имя тега HTML, который нужно найти\n",
        "- ```attrs``` - словарь атрибутов и их значений, которые нужно найти\n",
        "- ```recursive``` - Нужно ли искать во вложенных тегах (по умолчанию True)\n",
        "- ```string``` - текст, который нужно найти\n",
        "- ```limit``` - Максимальное кол-во элементов которые мы хотим найти"
      ]
    },
    {
      "cell_type": "code",
      "execution_count": 26,
      "metadata": {},
      "outputs": [
        {
          "name": "stdout",
          "output_type": "stream",
          "text": [
            "<p class=\"text-class\">Текст 1</p>\n",
            "<p class=\"text-class\">Текст 2</p>\n",
            "<p id=\"text-id\">Текст 3</p>\n",
            "\n",
            "--------------------------------------------------\n",
            "\n",
            "<p class=\"text-class\">Текст 1</p>\n",
            "<p class=\"text-class\">Текст 2</p>\n",
            "\n",
            "--------------------------------------------------\n",
            "\n",
            "<p id=\"text-id\">Текст 3</p>\n"
          ]
        }
      ],
      "source": [
        "# Example 1\n",
        "\n",
        "html_doc = \"\"\"\n",
        "<html>\n",
        "    <body>\n",
        "        <h1>Заголовок 1</h1>\n",
        "        <p class=\"text-class\">Текст 1</p>\n",
        "        <p class=\"text-class\">Текст 2</p>\n",
        "        <p id=\"text-id\">Текст 3</p>\n",
        "    </body>\n",
        "</html>\"\"\"\n",
        "\n",
        "soup = BeautifulSoup(html_doc, 'html.parser')\n",
        "\n",
        "# Найти все теги `p`\n",
        "print(*soup.find_all('p'), sep='\\n')\n",
        "Delimiter()\n",
        "# Найти все теги `p` с атрибутом class='text-class'\n",
        "print(*soup.find_all('p', {'class': 'text-class'}), sep='\\n')\n",
        "Delimiter()\n",
        "# Найти все теги `p` с атрибутом id='text-id'\n",
        "print(*soup.find_all('p', {'id': 'text-id'}), sep='\\n')\n"
      ]
    },
    {
      "cell_type": "code",
      "execution_count": 31,
      "metadata": {},
      "outputs": [
        {
          "name": "stdout",
          "output_type": "stream",
          "text": [
            "https://google.com Google\n",
            "https://yandex.ru Yandex\n"
          ]
        }
      ],
      "source": [
        "# Example 2\n",
        "\n",
        "html_doc = \"\"\"\n",
        "<html>\n",
        "    <body>\n",
        "        <h1>Заголовок 1</h1>\n",
        "        <p class=\"text-class\">Текст 1</p>\n",
        "        <p class=\"text-class\">Текст 2</p>\n",
        "        <p id=\"text-id\">Текст 3</p>\n",
        "        <a href=\"https://google.com\">Google</a>\n",
        "        <a href=\"https://yandex.ru\">Yandex</a>\n",
        "    </body>\n",
        "</html>\n",
        "\"\"\"\n",
        "\n",
        "soup = BeautifulSoup(html_doc, 'html.parser')\n",
        "\n",
        "# Найти все теги `a` с атрибутом href\n",
        "for tag in soup.find_all('a', href=True):\n",
        "    print(tag['href'], tag.text)"
      ]
    },
    {
      "cell_type": "code",
      "execution_count": 41,
      "metadata": {},
      "outputs": [
        {
          "name": "stdout",
          "output_type": "stream",
          "text": [
            "recursive = True\n",
            "<p class=\"info\">This is a paragraph.</p>\n",
            "<p class=\"info\">This is another paragraph.</p>\n",
            "<p>Some additional information.</p>\n",
            "<p class=\"info\">This is a paragraph footer.</p>\n",
            "--------------------------------------------------\n",
            "recursive = False\n",
            "<p class=\"info\">This is a paragraph footer.</p>\n"
          ]
        }
      ],
      "source": [
        "# Example 3\n",
        "\n",
        "html_doc = \"\"\"\n",
        "<html>\n",
        "    <head>\n",
        "        <title>Example Page</title>\n",
        "    </head>\n",
        "    <body>\n",
        "        <div id=\"main\">\n",
        "            <h1>Hello World</h1>\n",
        "            <p class=\"info\">This is a paragraph.</p>\n",
        "            <p class=\"info\">This is another paragraph.</p>\n",
        "            <ul>\n",
        "                <li>Item 1</li>\n",
        "                <li>Item 2</li>\n",
        "                <li>Item 3</li>\n",
        "            </ul>\n",
        "        </div>\n",
        "        <div id=\"secondary\">\n",
        "            <p>Some additional information.</p>\n",
        "        </div>\n",
        "        <p class=\"info\">This is a paragraph footer.</p>\n",
        "    </body>\n",
        "</html>\n",
        "\"\"\"\n",
        "\n",
        "soup = BeautifulSoup(html_doc, 'html.parser') \n",
        "soup = soup.find('body')  # оставить только тег 'body'\n",
        "\n",
        "print(\"recursive = True\") # Рекурсия вкл \n",
        "print(*soup.find_all('p', recursive=True), sep='\\n') # Поиск всех тегов 'p' с выводом через распаковку с применение sep\n",
        "\n",
        "print('-'*50 ) # Разделитель\n",
        "\n",
        "print(\"recursive = False\") # Рекурсия выкл\n",
        "print(*soup.find_all('p', recursive=False), sep='\\n') "
      ]
    },
    {
      "cell_type": "code",
      "execution_count": 56,
      "metadata": {},
      "outputs": [
        {
          "name": "stdout",
          "output_type": "stream",
          "text": [
            "[<p class=\"text-class\">Текст 1</p>]\n",
            "\n",
            "--------------------------------------------------\n",
            "\n",
            "<p class=\"text-class\">Текст 1</p>\n",
            "<p class=\"text-class\">Текст 2</p>\n",
            "<p id=\"text-id\">Текст 3</p>\n"
          ]
        }
      ],
      "source": [
        "# Example 4\n",
        "\n",
        "html_doc = \"\"\"\n",
        "<html>\n",
        "    <body>\n",
        "        <h1>Заголовок 1</h1>\n",
        "        <p class=\"text-class\">Текст 1</p>\n",
        "        <p class=\"text-class\">Текст 2</p>\n",
        "        <p id=\"text-id\">Текст 3</p>\n",
        "    </body>\n",
        "</html>\n",
        "\"\"\"\n",
        "\n",
        "soup = BeautifulSoup(html_doc, 'html.parser')\n",
        "\n",
        "# Найти все теги `p` с текстом 'Текст 1'\n",
        "print(soup.find_all('p', string='Текст 1'))\n",
        "\n",
        "Delimiter()\n",
        "# Найти все теги `p` с текстом, содержащим 'Текст'\n",
        "print(*soup.find_all('p', string= lambda text : 'Текст' in text), sep='\\n')\n",
        "#print(soup.find_all('p', string= lambda text : text if text.startswith('Текст') else ''))"
      ]
    },
    {
      "cell_type": "code",
      "execution_count": 61,
      "metadata": {},
      "outputs": [
        {
          "name": "stdout",
          "output_type": "stream",
          "text": [
            "<p class=\"text-class\">Текст 1</p>\n",
            "<p class=\"text-class\">Текст 2</p>\n",
            "\n",
            "--------------------------------------------------\n",
            "\n",
            "<p class=\"text-class\">Текст 1</p>\n",
            "<p class=\"text-class\">Текст 2</p>\n",
            "\n",
            "--------------------------------------------------\n",
            "\n",
            "<p id=\"text-id\">Текст 3</p>\n"
          ]
        }
      ],
      "source": [
        "# Example 5\n",
        "\n",
        "html_doc = \"\"\"\n",
        "<html>\n",
        "    <body>\n",
        "        <h1>Заголовок 1</h1>\n",
        "        <p class=\"text-class\">Текст 1</p>\n",
        "        <p class=\"text-class\">Текст 2</p>\n",
        "        <p id=\"text-id\">Текст 3</p>\n",
        "    </body>\n",
        "</html>\n",
        "\"\"\"\n",
        "\n",
        "soup = BeautifulSoup(html_doc, 'html.parser')\n",
        "\n",
        "# Найти все теги `p` с классом `text-class`\n",
        "print(*soup.find_all('p', {'class': 'text-class'}), sep='\\n')\n",
        "Delimiter()\n",
        "# Найти все теги `p` с атрибутом `class`\n",
        "print(*soup.find_all('p', class_=True), sep='\\n')\n",
        "Delimiter()\n",
        "# Найти все теги `p` с атрибутом `id`\n",
        "print(*soup.find_all('p', id=True), sep='\\n')"
      ]
    },
    {
      "attachments": {},
      "cell_type": "markdown",
      "metadata": {},
      "source": [
        "### .text\n",
        "\n",
        "\n",
        "Возвращает текстовое содержимое тега, включая текст, содержащийся между тегами. Оно не учитывает вложенные теги"
      ]
    },
    {
      "cell_type": "code",
      "execution_count": 62,
      "metadata": {},
      "outputs": [
        {
          "name": "stdout",
          "output_type": "stream",
          "text": [
            "This is a paragraph\n"
          ]
        }
      ],
      "source": [
        "# Example 1\n",
        "\n",
        "html_doc = \"\"\"\n",
        "<html>\n",
        "    <body>\n",
        "        <div id=\"main\">\n",
        "            <p>This is a paragraph</p>\n",
        "        </div>\n",
        "    </body>\n",
        "</html>\n",
        "\"\"\"\n",
        "\n",
        "soup = BeautifulSoup(html_doc, 'html.parser')\n",
        "\n",
        "# Находим первый элемент с тегом p\n",
        "p = soup.find('p')\n",
        "\n",
        "# Используем .text, чтобы получить текст внутри тега p\n",
        "print(p.text)  # This is a paragraph"
      ]
    },
    {
      "cell_type": "code",
      "execution_count": 63,
      "metadata": {},
      "outputs": [
        {
          "name": "stdout",
          "output_type": "stream",
          "text": [
            "Item 1\n",
            "Item 2\n",
            "Item 3\n"
          ]
        }
      ],
      "source": [
        "# Example 2\n",
        "\n",
        "from bs4 import BeautifulSoup\n",
        "\n",
        "html_doc = \"\"\"\n",
        "<html>\n",
        "    <body>\n",
        "        <div id=\"main\">\n",
        "            <ul>\n",
        "                <li>Item 1</li>\n",
        "                <li>Item 2</li>\n",
        "                <li>Item 3</li>\n",
        "            </ul>\n",
        "        </div>\n",
        "    </body>\n",
        "</html>\n",
        "\"\"\"\n",
        "\n",
        "soup = BeautifulSoup(html_doc, 'html.parser')\n",
        "\n",
        "# Находим все теги li\n",
        "lis = soup.find_all('li')\n",
        "\n",
        "# Выводим текст внутри каждого тега li с помощью .text\n",
        "for li in lis:\n",
        "    print(li.text)"
      ]
    },
    {
      "attachments": {},
      "cell_type": "markdown",
      "metadata": {},
      "source": [
        "###  .get_text()\n",
        "\n",
        "Возвращает текстовое содержимое тега и всех его потомков (включая текст, содержащийся между вложенными тегами). Он может быть использован для извлечения всего текстового содержимого внутри тега."
      ]
    },
    {
      "cell_type": "code",
      "execution_count": 66,
      "metadata": {},
      "outputs": [
        {
          "name": "stdout",
          "output_type": "stream",
          "text": [
            "Example Page\n"
          ]
        }
      ],
      "source": [
        "# Example 1\n",
        "\n",
        "html_doc = \"\"\"\n",
        "<html>\n",
        "    <body>\n",
        "        <h1>Example Page</h1>\n",
        "        <p>This is some text.</p>\n",
        "        <ul>\n",
        "            <li>Item 1</li>\n",
        "            <li>Item 2</li>\n",
        "            <li>Item 3</li>\n",
        "        </ul>\n",
        "        <p>This is some more text.</p>\n",
        "        <p>This is even more text.</p>\n",
        "    </body>\n",
        "</html>\n",
        "\"\"\"\n",
        "\n",
        "soup = BeautifulSoup(html_doc, 'html.parser')\n",
        "\n",
        "header = soup.h1\n",
        "header_text = header.get_text()\n",
        "print(header_text)"
      ]
    },
    {
      "cell_type": "code",
      "execution_count": 67,
      "metadata": {},
      "outputs": [
        {
          "name": "stdout",
          "output_type": "stream",
          "text": [
            "\n",
            "\n",
            "\n",
            "Example Page\n",
            "This is some text.\n",
            "\n",
            "Item 1\n",
            "Item 2\n",
            "Item 3\n",
            "\n",
            "This is some more text.\n",
            "This is even more text.\n",
            "\n",
            "\n",
            "\n"
          ]
        }
      ],
      "source": [
        "# Example 2\n",
        "\n",
        "html_doc = \"\"\"\n",
        "<html>\n",
        "    <body>\n",
        "        <h1>Example Page</h1>\n",
        "        <p>This is some text.</p>\n",
        "        <ul>\n",
        "            <li>Item 1</li>\n",
        "            <li>Item 2</li>\n",
        "            <li>Item 3</li>\n",
        "        </ul>\n",
        "        <p>This is some more text.</p>\n",
        "        <p>This is even more text.</p>\n",
        "    </body>\n",
        "</html>\n",
        "\"\"\"\n",
        "\n",
        "soup = BeautifulSoup(html_doc, 'html.parser')\n",
        "\n",
        "all_text = soup.get_text()\n",
        "print(all_text)"
      ]
    },
    {
      "attachments": {},
      "cell_type": "markdown",
      "metadata": {},
      "source": [
        "### .select()\n",
        "\n",
        "Позволяет выполнять поиск элементов HTML с помощью CSS селекторов. Он возвращает список тегов, удовлетворяющих заданным условиям."
      ]
    },
    {
      "attachments": {},
      "cell_type": "markdown",
      "metadata": {},
      "source": [
        "```soup.select(self, selector, namespaces=None, limit=None, **kwargs)```\n",
        "\n",
        "Параметры:\n",
        "\n",
        "- Тег: ```select(\"p\")```\n",
        "- Класс: ```select(\".class\")```\n",
        "- Идентификатор: ```select(\"#id\")```\n",
        "- Атрибут: ```select(\"[attribute=value]\")```\n",
        "- Несколько селекторов: ```select(\"p.class\")```\n"
      ]
    },
    {
      "cell_type": "code",
      "execution_count": 70,
      "metadata": {},
      "outputs": [
        {
          "name": "stdout",
          "output_type": "stream",
          "text": [
            "[<p class=\"text-class\">Текст 1</p>, <p class=\"text-class\">Текст 2</p>]\n",
            "[<p id=\"text-id\">Текст 3</p>]\n",
            "[<p class=\"text-class\">Текст 1</p>, <p class=\"text-class\">Текст 2</p>, <p id=\"text-id\">Текст 3</p>]\n"
          ]
        }
      ],
      "source": [
        "# Example 1\n",
        "\n",
        "html_doc = \"\"\"\n",
        "<html>\n",
        "    <body>\n",
        "        <h1>Заголовок 1</h1>\n",
        "        <p class=\"text-class\">Текст 1</p>\n",
        "        <p class=\"text-class\">Текст 2</p>\n",
        "        <p id=\"text-id\">Текст 3</p>\n",
        "    </body>\n",
        "</html>\n",
        "\"\"\"\n",
        "\n",
        "soup = BeautifulSoup(html_doc, 'html.parser')\n",
        "\n",
        "# Найти все теги `p` с классом `text-class`\n",
        "print(soup.select('.text-class'))\n",
        "\n",
        "# Найти все теги `p` с атрибутом `id`\n",
        "print(soup.select('p#text-id'))\n",
        "\n",
        "# Найти все теги `p` внутри тега `body`\n",
        "print(soup.select('p'))"
      ]
    },
    {
      "cell_type": "code",
      "execution_count": 76,
      "metadata": {},
      "outputs": [
        {
          "name": "stdout",
          "output_type": "stream",
          "text": [
            "[<p class=\"highlight\">This is a highlighted paragraph.</p>]\n",
            "[<p>This is a paragraph in a div.</p>]\n"
          ]
        }
      ],
      "source": [
        "# Example 2\n",
        "\n",
        "html_doc = \"\"\"\n",
        "<html>\n",
        "  <body>\n",
        "    <p class=\"highlight\">This is a highlighted paragraph.</p>\n",
        "    <p>This is a normal paragraph.</p>\n",
        "    <div id=\"div1\">\n",
        "      <p>This is a paragraph in a div.</p>\n",
        "    </div>\n",
        "  </body>\n",
        "</html>\n",
        "\"\"\"\n",
        "\n",
        "soup = BeautifulSoup(html_doc, \"html.parser\")\n",
        "\n",
        "# Выберем все параграфы с классом \"highlight\"\n",
        "print(soup.select('.highlight'))\n",
        "# Выберем все параграфы, находящиеся внутри элемента с идентификатором \"div1\"\n",
        "print(soup.select('#div1 p'))"
      ]
    },
    {
      "cell_type": "code",
      "execution_count": 81,
      "metadata": {},
      "outputs": [
        {
          "name": "stdout",
          "output_type": "stream",
          "text": [
            "[<p class=\"highlight\">This is a highlighted paragraph in div1.</p>, <p class=\"highlight\">This is a highlighted paragraph in div2.</p>]\n"
          ]
        }
      ],
      "source": [
        "# Example 3\n",
        "\n",
        "html_doc = \"\"\"\n",
        "<html>\n",
        "  <body>\n",
        "    <div id=\"div1\">\n",
        "      <p class=\"highlight\">This is a highlighted paragraph in div1.</p>\n",
        "      <p>This is a normal paragraph in div1.</p>\n",
        "    </div>\n",
        "    <div id=\"div2\">\n",
        "      <p class=\"highlight\">This is a highlighted paragraph in div2.</p>\n",
        "      <p>This is a normal paragraph in div2.</p>\n",
        "    </div>\n",
        "  </body>\n",
        "</html>\n",
        "\"\"\"\n",
        "\n",
        "soup = BeautifulSoup(html_doc, \"html.parser\")\n",
        "\n",
        "# Выберем все параграфы с классом \"highlight\", которые \n",
        "# находятся внутри элементов с идентификатором \"div1\" или \"div2\"\n",
        "print(soup.select('#div1 .highlight, #div2 .highlight'))"
      ]
    },
    {
      "cell_type": "code",
      "execution_count": 86,
      "metadata": {},
      "outputs": [
        {
          "name": "stdout",
          "output_type": "stream",
          "text": [
            "This is a highlighted paragraph in div1.\n",
            "This is a highlighted paragraph in div2.\n"
          ]
        }
      ],
      "source": [
        "# Example 4\n",
        "\n",
        "html_doc = \"\"\"\n",
        "<html>\n",
        "  <body>\n",
        "    <div id=\"div1\">\n",
        "      <p class=\"highlight\">This is a highlighted paragraph in div1.</p>\n",
        "      <p>This is a normal paragraph in div1.</p>\n",
        "    </div>\n",
        "    <div id=\"div2\">\n",
        "      <p class=\"highlight\">This is a highlighted paragraph in div2.</p>\n",
        "      <p>This is a normal paragraph in div2.</p>\n",
        "    </div>\n",
        "  </body>\n",
        "</html>\n",
        "\"\"\"\n",
        "\n",
        "soup = BeautifulSoup(html_doc, \"html.parser\")\n",
        "\n",
        "# Выберем все параграфы с классом \"highlight\"\n",
        "for p in soup.select(\"p[class='highlight']\"):\n",
        "    print(p.text)"
      ]
    },
    {
      "attachments": {},
      "cell_type": "markdown",
      "metadata": {},
      "source": [
        "### .select_one()\n",
        "\n",
        "\n",
        "Позволяет выбрать один элемент на основе CSS-селектора. Он возвращает первый найденный элемент, удовлетворяющий условию, или None, если ничего не было найдено"
      ]
    },
    {
      "cell_type": "code",
      "execution_count": 88,
      "metadata": {},
      "outputs": [
        {
          "name": "stdout",
          "output_type": "stream",
          "text": [
            "This is a highlighted paragraph in div1.\n"
          ]
        }
      ],
      "source": [
        "# Example 1 \n",
        "\n",
        "html_doc = \"\"\"\n",
        "<html>\n",
        "  <body>\n",
        "    <div id=\"div1\">\n",
        "      <p class=\"highlight\">This is a highlighted paragraph in div1.</p>\n",
        "      <p>This is a normal paragraph in div1.</p>\n",
        "    </div>\n",
        "    <div id=\"div2\">\n",
        "      <p class=\"highlight\">This is a highlighted paragraph in div2.</p>\n",
        "      <p>This is a normal paragraph in div2.</p>\n",
        "    </div>\n",
        "  </body>\n",
        "</html>\n",
        "\"\"\"\n",
        "soup = BeautifulSoup(html_doc, \"html.parser\")\n",
        "\n",
        "# Выберем первый параграф с классом \"highlight\"\n",
        "print(soup.select_one(\"p[class='highlight']\").text)"
      ]
    },
    {
      "cell_type": "code",
      "execution_count": 94,
      "metadata": {},
      "outputs": [
        {
          "name": "stdout",
          "output_type": "stream",
          "text": [
            "<div class=\"container\">\n",
            "<p>This is a paragraph.</p>\n",
            "<p>This is another paragraph.</p>\n",
            "</div>\n"
          ]
        }
      ],
      "source": [
        "# Example 2\n",
        "html_doc = \"\"\"\n",
        "<html>\n",
        "    <head>\n",
        "        <title>Page Title</title>\n",
        "    </head>\n",
        "    <body>\n",
        "        <div class=\"container\">\n",
        "            <p>This is a paragraph.</p>\n",
        "            <p>This is another paragraph.</p>\n",
        "        </div>\n",
        "        <div class=\"container\">\n",
        "            <p>This is a third paragraph.</p>\n",
        "            <p>This is a fourth paragraph.</p>\n",
        "        </div>\n",
        "    </body>\n",
        "</html>\n",
        "\"\"\"\n",
        "\n",
        "soup = BeautifulSoup(html_doc, 'html.parser')\n",
        "# Выберем первый div с классом \"container\"\n",
        "print(soup.select_one(\"div[class='container']\"))"
      ]
    },
    {
      "cell_type": "code",
      "execution_count": 100,
      "metadata": {},
      "outputs": [
        {
          "name": "stdout",
          "output_type": "stream",
          "text": [
            "This is a highlighted paragraph.\n"
          ]
        }
      ],
      "source": [
        "# Example 3\n",
        "\n",
        "html_doc = \"\"\"\n",
        "<html>\n",
        "    <head>\n",
        "        <title>Page Title</title>\n",
        "    </head>\n",
        "    <body>\n",
        "        <div class=\"container\">\n",
        "            <p>This is a paragraph.</p>\n",
        "            <p>This is another paragraph.</p>\n",
        "        </div>\n",
        "        <div class=\"container\">\n",
        "            <p class=\"highlight\">This is a highlighted paragraph.</p>\n",
        "            <p>This is a fourth paragraph.</p>\n",
        "        </div>\n",
        "    </body>\n",
        "</html>\n",
        "\"\"\"\n",
        "\n",
        "soup = BeautifulSoup(html_doc, 'html.parser')\n",
        "\n",
        "# Выберем первый div с классом «container», у которого есть дочерний элемент p с классом «highlight».\n",
        "print(soup.select_one('div.container p.highlight').get_text())"
      ]
    },
    {
      "attachments": {},
      "cell_type": "markdown",
      "metadata": {},
      "source": [
        "### .parent\n",
        "\n",
        "Возвращает родительский тег текущего элемента."
      ]
    },
    {
      "cell_type": "code",
      "execution_count": 103,
      "metadata": {},
      "outputs": [
        {
          "name": "stdout",
          "output_type": "stream",
          "text": [
            "Родитель этого элемента <p>This is a paragraph.</p>\n",
            "Является:  <body>\n",
            "<p>This is a paragraph.</p>\n",
            "</body>\n"
          ]
        }
      ],
      "source": [
        "# Example 1\n",
        "\n",
        "html_doc = \"\"\"\n",
        "<html>\n",
        "  <body>\n",
        "    <p>This is a paragraph.</p>\n",
        "  </body>\n",
        "</html>\n",
        "\"\"\"\n",
        "soup = BeautifulSoup(html_doc, 'html.parser')\n",
        "paragraph = soup.select_one('body p')\n",
        "print(\"Родитель этого элемента\", paragraph)\n",
        "print(\"Является: \" , paragraph.parent)\n",
        "\n"
      ]
    },
    {
      "cell_type": "code",
      "execution_count": 110,
      "metadata": {},
      "outputs": [
        {
          "name": "stdout",
          "output_type": "stream",
          "text": [
            "<body>\n",
            "<p>This is a paragraph.</p>\n",
            "</body>\n"
          ]
        }
      ],
      "source": [
        "# Example 2\n",
        "html_doc = \"\"\"\n",
        "<html>\n",
        "  <head>\n",
        "    <title>Example Page</title>\n",
        "  </head>\n",
        "  <body>\n",
        "    <p>This is a paragraph.</p>\n",
        "  </body>\n",
        "</html>\n",
        "\"\"\"\n",
        "\n",
        "soup = BeautifulSoup(html_doc, 'html.parser')\n",
        "p_tag = soup.find('p')\n",
        "body_tag = p_tag.parent\n",
        "print(body_tag)"
      ]
    },
    {
      "cell_type": "code",
      "execution_count": 120,
      "metadata": {},
      "outputs": [
        {
          "name": "stdout",
          "output_type": "stream",
          "text": [
            "У b родитель: p\n",
            "У b родитель: p\n"
          ]
        }
      ],
      "source": [
        "# Example \n",
        "html_doc = \"\"\"\n",
        "<html>\n",
        "    <head>\n",
        "        <title>Example Page</title>\n",
        "    </head>\n",
        "    <body>\n",
        "        <p>This is a <b>bold</b> text.</p>\n",
        "        <p>This is another <b>bold</b> text.</p>\n",
        "    </body>\n",
        "</html>\n",
        "\"\"\"\n",
        "\n",
        "soup = BeautifulSoup(html_doc, \"html.parser\")\n",
        "for b_tag in soup.find_all(\"b\"):\n",
        "    print(f\"У {b_tag.name} родитель: {b_tag.parent.name}\")\n"
      ]
    },
    {
      "cell_type": "code",
      "execution_count": 121,
      "metadata": {},
      "outputs": [
        {
          "name": "stdout",
          "output_type": "stream",
          "text": [
            "<div id=\"content\">\n",
            "<p>This is a paragraph.</p>\n",
            "<p>This is another paragraph.</p>\n",
            "</div>\n"
          ]
        }
      ],
      "source": [
        "# Example 4\n",
        "\n",
        "html_doc = \"\"\"\n",
        "<html>\n",
        "    <body>\n",
        "        <div id=\"content\">\n",
        "            <p>This is a paragraph.</p>\n",
        "            <p>This is another paragraph.</p>\n",
        "        </div>\n",
        "    </body>\n",
        "</html>\n",
        "\"\"\"\n",
        "\n",
        "soup = BeautifulSoup(html_doc, 'html.parser')\n",
        "\n",
        "first_p = soup.select_one('#content p:first-of-type')\n",
        "parent_div = first_p.parent\n",
        "\n",
        "print(parent_div)"
      ]
    },
    {
      "attachments": {},
      "cell_type": "markdown",
      "metadata": {},
      "source": [
        "### .children\n",
        "\n",
        "\n",
        "представляет собой объект ResultSet, который содержит все дочерние элементы тега"
      ]
    },
    {
      "cell_type": "code",
      "execution_count": 124,
      "metadata": {},
      "outputs": [
        {
          "name": "stdout",
          "output_type": "stream",
          "text": [
            "\n",
            "This is some content.\n",
            "\n",
            "This is some more content.\n",
            "\n"
          ]
        }
      ],
      "source": [
        "#Example 1\n",
        "\n",
        "html_doc = \"\"\"\n",
        "<html>\n",
        "  <head>\n",
        "    <title>Example Page</title>\n",
        "  </head>\n",
        "  <body>\n",
        "    <div class=\"content\">\n",
        "      <p>This is some content.</p>\n",
        "      <p>This is some more content.</p>\n",
        "    </div>\n",
        "  </body>\n",
        "</html>\n",
        "\"\"\"\n",
        "\n",
        "soup = BeautifulSoup(html_doc, 'html.parser')\n",
        "content = soup.select_one('div.content')\n",
        "\n",
        "for item in content.children:\n",
        "    print(item.text.strip())"
      ]
    },
    {
      "attachments": {},
      "cell_type": "markdown",
      "metadata": {},
      "source": [
        "### .next_sibling\n",
        "\n",
        "Возвращает следующий элемент, следующий за текущим элементом."
      ]
    },
    {
      "cell_type": "code",
      "execution_count": 11,
      "metadata": {},
      "outputs": [
        {
          "name": "stdout",
          "output_type": "stream",
          "text": [
            "<p>This is some text.</p>\n"
          ]
        }
      ],
      "source": [
        "# Example 1\n",
        "\n",
        "html_doc = \"\"\"\n",
        "<html>\n",
        "    <body>\n",
        "        <h1>Example Page</h1>\n",
        "        <p>This is some text.</p>\n",
        "        <ul>\n",
        "            <li>Item 1</li>\n",
        "            <li>Item 2</li>\n",
        "            <li>Item 3</li>\n",
        "        </ul>\n",
        "    </body>\n",
        "</html>\n",
        "\"\"\"\n",
        "\n",
        "soup = BeautifulSoup(html_doc, 'html.parser')\n",
        "\n",
        "print(soup.h1.next_sibling.next_sibling)"
      ]
    },
    {
      "cell_type": "code",
      "execution_count": 13,
      "metadata": {},
      "outputs": [
        {
          "name": "stdout",
          "output_type": "stream",
          "text": [
            "<p>This is some text.</p>\n",
            "<ul>\n",
            "<li>Item 1</li>\n",
            "<li>Item 2</li>\n",
            "<li>Item 3</li>\n",
            "</ul>\n"
          ]
        }
      ],
      "source": [
        "# Example 2\n",
        "\n",
        "html_doc = \"\"\"\n",
        "<html>\n",
        "    <body>\n",
        "        <h1>Example Page</h1>\n",
        "        <p>This is some text.</p>\n",
        "        <ul>\n",
        "            <li>Item 1</li>\n",
        "            <li>Item 2</li>\n",
        "            <li>Item 3</li>\n",
        "        </ul>\n",
        "        <p>This is some more text.</p>\n",
        "        <p>This is even more text.</p>\n",
        "    </body>\n",
        "</html>\n",
        "\"\"\"\n",
        "\n",
        "soup = BeautifulSoup(html_doc, 'html.parser')\n",
        "\n",
        "first_para = soup.p\n",
        "print(first_para)\n",
        "print(first_para.next_sibling.next_sibling)"
      ]
    },
    {
      "cell_type": "code",
      "execution_count": 20,
      "metadata": {},
      "outputs": [
        {
          "name": "stdout",
          "output_type": "stream",
          "text": [
            "<li>Item 1</li>\n",
            "\n",
            "\n",
            "<li>Item 2</li>\n",
            "\n",
            "\n",
            "<li>Item 3</li>\n",
            "\n",
            "\n"
          ]
        }
      ],
      "source": [
        "# Example 3\n",
        "\n",
        "html_doc = \"\"\"\n",
        "<html>\n",
        "    <body>\n",
        "        <h1>Example Page</h1>\n",
        "        <p>This is some text.</p>\n",
        "        <ul>\n",
        "            <li>Item 1</li>\n",
        "            <li>Item 2</li>\n",
        "            <li>Item 3</li>\n",
        "        </ul>\n",
        "        <p>This is some more text.</p>\n",
        "        <p>This is even more text.</p>\n",
        "    </body>\n",
        "</html>\n",
        "\"\"\"\n",
        "\n",
        "soup = BeautifulSoup(html_doc, 'html.parser')\n",
        "\n",
        "first_list_item = soup.li\n",
        "print(first_list_item)\n",
        "\n",
        "next_sibling = first_list_item.next_sibling\n",
        "while next_sibling:\n",
        "    print(next_sibling)\n",
        "    next_sibling = next_sibling.next_sibling"
      ]
    },
    {
      "attachments": {},
      "cell_type": "markdown",
      "metadata": {},
      "source": [
        "### .previous_sibling\n",
        "\n",
        "Метод для получения предыдущего элемента в одном уровне вложенности"
      ]
    },
    {
      "cell_type": "code",
      "execution_count": 23,
      "metadata": {},
      "outputs": [
        {
          "name": "stdout",
          "output_type": "stream",
          "text": [
            "\n",
            "\n",
            "<li>Item 2</li>\n",
            "\n",
            "\n",
            "<li>Item 1</li>\n",
            "\n",
            "\n"
          ]
        }
      ],
      "source": [
        "# Example 1\n",
        "\n",
        "html_doc = \"\"\"\n",
        "<html>\n",
        "    <body>\n",
        "        <h1>Example Page</h1>\n",
        "        <p>This is some text.</p>\n",
        "        <ul>\n",
        "            <li>Item 1</li>\n",
        "            <li>Item 2</li>\n",
        "            <li>Item 3</li>\n",
        "        </ul>\n",
        "        <p>This is some more text.</p>\n",
        "        <p>This is even more text.</p>\n",
        "    </body>\n",
        "</html>\n",
        "\"\"\"\n",
        "\n",
        "soup = BeautifulSoup(html_doc, 'html.parser')\n",
        "\n",
        "last_list_item = soup.find_all('li')[-1]\n",
        "\n",
        "previous_sibling = last_list_item.previous_sibling\n",
        "while previous_sibling:\n",
        "    print(previous_sibling)\n",
        "    previous_sibling = previous_sibling.previous_sibling"
      ]
    },
    {
      "cell_type": "code",
      "execution_count": 24,
      "metadata": {},
      "outputs": [
        {
          "name": "stdout",
          "output_type": "stream",
          "text": [
            "<p>This is even more text.</p>\n",
            "1 \n",
            "\n",
            "2 <p>This is some more text.</p>\n",
            "3 \n",
            "\n",
            "4 <ul>\n",
            "<li>Item 1</li>\n",
            "<li>Item 2</li>\n",
            "<li>Item 3</li>\n",
            "</ul>\n",
            "5 \n",
            "\n",
            "6 <p>This is some text.</p>\n",
            "7 \n",
            "\n",
            "8 <h1>Example Page</h1>\n",
            "9 \n",
            "\n"
          ]
        }
      ],
      "source": [
        "# Example 2\n",
        "\n",
        "html_doc = \"\"\"\n",
        "<html>\n",
        "    <body>\n",
        "        <h1>Example Page</h1>\n",
        "        <p>This is some text.</p>\n",
        "        <ul>\n",
        "            <li>Item 1</li>\n",
        "            <li>Item 2</li>\n",
        "            <li>Item 3</li>\n",
        "        </ul>\n",
        "        <p>This is some more text.</p>\n",
        "        <p>This is even more text.</p>\n",
        "    </body>\n",
        "</html>\n",
        "\"\"\"\n",
        "\n",
        "soup = BeautifulSoup(html_doc, 'html.parser')\n",
        "\n",
        "last_p = soup.find_all('p')[-1]\n",
        "print(last_p)\n",
        "\n",
        "previous_sibling = last_p.previous_sibling\n",
        "i = 1\n",
        "while previous_sibling:\n",
        "    print(i, previous_sibling)\n",
        "    i += 1\n",
        "    previous_sibling = previous_sibling.previous_sibling"
      ]
    },
    {
      "attachments": {},
      "cell_type": "markdown",
      "metadata": {},
      "source": [
        "### .next_element \n",
        "\n",
        "\n",
        "Метод Beautiful Soup, который возвращает следующий элемент в документе HTML, следуя порядку их вхождения. Этот метод полезен для перемещения по документу HTML последовательно, пропуская все пробелы, теги и другие ненужные элементы. "
      ]
    },
    {
      "cell_type": "code",
      "execution_count": 31,
      "metadata": {},
      "outputs": [
        {
          "name": "stdout",
          "output_type": "stream",
          "text": [
            "This is some text.\n",
            "\n",
            "\n",
            "\n",
            "Item 1\n",
            "Item 2\n",
            "Item 3\n",
            "\n",
            "\n",
            "\n",
            "Item 1\n",
            "Item 1\n",
            "\n",
            "\n",
            "Item 2\n",
            "Item 2\n",
            "\n",
            "\n",
            "Item 3\n",
            "Item 3\n",
            "\n",
            "\n",
            "\n",
            "\n",
            "This is some more text 2.\n",
            "This is some more text 2.\n",
            "\n",
            "\n",
            "This is even more text 3.\n",
            "This is even more text 3.\n",
            "\n",
            "\n",
            "\n",
            "\n",
            "\n",
            "\n"
          ]
        }
      ],
      "source": [
        "html_doc = \"\"\"\n",
        "<html>\n",
        "    <body>\n",
        "        <h1>Example Page</h1>\n",
        "        <p>This is some text.</p>\n",
        "        <ul>\n",
        "            <li>Item 1</li>\n",
        "            <li>Item 2</li>\n",
        "            <li>Item 3</li>\n",
        "        </ul>\n",
        "        <p>This is some more text 2.</p>\n",
        "        <p>This is even more text 3.</p>\n",
        "    </body>\n",
        "</html>\n",
        "\"\"\"\n",
        "\n",
        "soup = BeautifulSoup(html_doc, 'lxml')\n",
        "first_p = soup.select_one('p')\n",
        "next_element = first_p.next_element\n",
        "while next_element:\n",
        "    print(next_element.text)\n",
        "    next_element = next_element.next_element"
      ]
    },
    {
      "cell_type": "code",
      "execution_count": 32,
      "metadata": {},
      "outputs": [
        {
          "name": "stdout",
          "output_type": "stream",
          "text": [
            "<li>Item 1</li>\n",
            "++++++++++\n",
            "Item 1\n",
            "-------------------\n",
            "++++++++++\n",
            "\n",
            "\n",
            "-------------------\n",
            "++++++++++\n",
            "<li>Item 2</li>\n",
            "-------------------\n",
            "++++++++++\n",
            "Item 2\n",
            "-------------------\n",
            "++++++++++\n",
            "\n",
            "\n",
            "-------------------\n",
            "++++++++++\n",
            "<li>Item 3</li>\n",
            "-------------------\n",
            "++++++++++\n",
            "Item 3\n",
            "-------------------\n",
            "++++++++++\n",
            "\n",
            "\n",
            "-------------------\n",
            "++++++++++\n",
            "\n",
            "\n",
            "-------------------\n",
            "++++++++++\n",
            "<p>This is some more text.</p>\n",
            "-------------------\n",
            "++++++++++\n",
            "This is some more text.\n",
            "-------------------\n",
            "++++++++++\n",
            "\n",
            "\n",
            "-------------------\n",
            "++++++++++\n",
            "<p>This is even more text.</p>\n",
            "-------------------\n",
            "++++++++++\n",
            "This is even more text.\n",
            "-------------------\n",
            "++++++++++\n",
            "\n",
            "\n",
            "-------------------\n",
            "++++++++++\n",
            "\n",
            "\n",
            "-------------------\n",
            "++++++++++\n",
            "\n",
            "\n",
            "-------------------\n"
          ]
        }
      ],
      "source": [
        "html_doc = \"\"\"\n",
        "<html>\n",
        "    <body>\n",
        "        <h1>Example Page</h1>\n",
        "        <p>This is some text.</p>\n",
        "        <ul>\n",
        "            <li>Item 1</li>\n",
        "            <li>Item 2</li>\n",
        "            <li>Item 3</li>\n",
        "        </ul>\n",
        "        <p>This is some more text.</p>\n",
        "        <p>This is even more text.</p>\n",
        "    </body>\n",
        "</html>\n",
        "\"\"\"\n",
        "\n",
        "soup = BeautifulSoup(html_doc, 'html.parser')\n",
        "\n",
        "first_p = soup.li\n",
        "print(first_p)\n",
        "\n",
        "next_element = first_p.next_element\n",
        "while next_element:\n",
        "    print('++++++++++')\n",
        "    print(next_element)\n",
        "    print('-------------------')\n",
        "    next_element = next_element.next_element"
      ]
    },
    {
      "attachments": {},
      "cell_type": "markdown",
      "metadata": {},
      "source": [
        "### .previous_element\n",
        "\n",
        "Метод BeautifulSoup, который возвращает предыдущий элемент в разметке HTML. Он является аналогом метода .next_element, но работает в обратном направлении"
      ]
    },
    {
      "cell_type": "code",
      "execution_count": 33,
      "metadata": {},
      "outputs": [
        {
          "name": "stdout",
          "output_type": "stream",
          "text": [
            "Item 2\n"
          ]
        }
      ],
      "source": [
        "\n",
        "html_doc = \"\"\"\n",
        "<html>\n",
        "    <body>\n",
        "        <h1>Example Page</h1>\n",
        "        <p>This is some text.</p>\n",
        "        <ul>\n",
        "            <li>Item 1</li>\n",
        "            <li>Item 2</li>\n",
        "            <li>Item 3</li>\n",
        "        </ul>\n",
        "        <p>This is some more text.</p>\n",
        "        <p>This is even more text.</p>\n",
        "    </body>\n",
        "</html>\n",
        "\"\"\"\n",
        "\n",
        "soup = BeautifulSoup(html_doc, 'html.parser')\n",
        "\n",
        "last_p = soup.find_all('li')[-1]\n",
        "\n",
        "previous_element = last_p.previous_element\n",
        "\n",
        "previous_element = previous_element.previous_element\n",
        "print(previous_element)"
      ]
    },
    {
      "attachments": {},
      "cell_type": "markdown",
      "metadata": {},
      "source": [
        "### .decompose()\n",
        "\n",
        "Метод Beautiful Soup, который удаляет тег и все его дочерние элементы из дерева документа."
      ]
    },
    {
      "cell_type": "code",
      "execution_count": 37,
      "metadata": {},
      "outputs": [
        {
          "name": "stdout",
          "output_type": "stream",
          "text": [
            "<div id=\"main\">\n",
            "<h1>Hello World</h1>\n",
            "<p class=\"info\">This is a paragraph.</p>\n",
            "<p class=\"info\">This is another paragraph.</p>\n",
            "<ul>\n",
            "<li>Item 1</li>\n",
            "<li>Item 2</li>\n",
            "<li>Item 3</li>\n",
            "</ul>\n",
            "</div>\n",
            "\n",
            "--------------------------------------------------\n",
            "\n",
            "<div id=\"main\">\n",
            "<h1>Hello World</h1>\n",
            "\n",
            "<p class=\"info\">This is another paragraph.</p>\n",
            "<ul>\n",
            "<li>Item 1</li>\n",
            "<li>Item 2</li>\n",
            "<li>Item 3</li>\n",
            "</ul>\n",
            "</div>\n"
          ]
        }
      ],
      "source": [
        "html_doc = \"\"\"\n",
        "<html>\n",
        "    <head>\n",
        "        <title>Example Page</title>\n",
        "    </head>\n",
        "    <body>\n",
        "        <div id=\"main\">\n",
        "            <h1>Hello World</h1>\n",
        "            <p class=\"info\">This is a paragraph.</p>\n",
        "            <p class=\"info\">This is another paragraph.</p>\n",
        "            <ul>\n",
        "                <li>Item 1</li>\n",
        "                <li>Item 2</li>\n",
        "                <li>Item 3</li>\n",
        "            </ul>\n",
        "        </div>\n",
        "        <div id=\"secondary\">\n",
        "            <p>Some additional information.</p>\n",
        "        </div>\n",
        "    </body>\n",
        "</html>\n",
        "\"\"\"\n",
        "\n",
        "soup = BeautifulSoup(html_doc, 'html.parser')\n",
        "\n",
        "# Найдёт первый div с идентификатором «main»\n",
        "main_div = soup.find('div', {'id': 'main'})\n",
        "print(main_div)\n",
        "Delimiter()\n",
        "# Найдёт первый тег p с классом «info» внутри «main» div и удалите его.\n",
        "info_p = main_div.find('p', {'class': 'info'})\n",
        "info_p.decompose()\n",
        "print(main_div)"
      ]
    },
    {
      "cell_type": "code",
      "execution_count": null,
      "metadata": {},
      "outputs": [],
      "source": []
    },
    {
      "attachments": {},
      "cell_type": "markdown",
      "metadata": {},
      "source": [
        "### .extract\n",
        "\n",
        "Метод объекта BeautifulSoup, который используется для извлечения тега из дерева документа. \n"
      ]
    },
    {
      "cell_type": "code",
      "execution_count": 40,
      "metadata": {},
      "outputs": [
        {
          "name": "stdout",
          "output_type": "stream",
          "text": [
            "\n",
            "<html>\n",
            "<head>\n",
            "<title>Example Page</title>\n",
            "</head>\n",
            "<body>\n",
            "<div id=\"main\">\n",
            "\n",
            "<p class=\"info\">This is a paragraph.</p>\n",
            "<p class=\"info\">This is another paragraph.</p>\n",
            "<ul>\n",
            "<li>Item 1</li>\n",
            "<li>Item 2</li>\n",
            "<li>Item 3</li>\n",
            "</ul>\n",
            "</div>\n",
            "<div id=\"secondary\">\n",
            "<p>Some additional information.</p>\n",
            "</div>\n",
            "</body>\n",
            "</html>\n",
            "\n",
            "\n",
            "--------------------------------------------------\n",
            "\n",
            "<h1>Hello World</h1>\n"
          ]
        }
      ],
      "source": [
        "\n",
        "html_doc = \"\"\"\n",
        "<html>\n",
        "    <head>\n",
        "        <title>Example Page</title>\n",
        "    </head>\n",
        "    <body>\n",
        "        <div id=\"main\">\n",
        "            <h1>Hello World</h1>\n",
        "            <p class=\"info\">This is a paragraph.</p>\n",
        "            <p class=\"info\">This is another paragraph.</p>\n",
        "            <ul>\n",
        "                <li>Item 1</li>\n",
        "                <li>Item 2</li>\n",
        "                <li>Item 3</li>\n",
        "            </ul>\n",
        "        </div>\n",
        "        <div id=\"secondary\">\n",
        "            <p>Some additional information.</p>\n",
        "        </div>\n",
        "    </body>\n",
        "</html>\n",
        "\"\"\"\n",
        "\n",
        "soup = BeautifulSoup(html_doc, 'html.parser')\n",
        "\n",
        "# Найдёт первый h1 внутри \"основного\" div\n",
        "main_h1 = soup.find('h1')\n",
        "# Извлекает тег h1 из документа\n",
        "main_h1.extract()\n",
        "\n",
        "\n",
        "# Тег h1 больше не доступен в документе\n",
        "print(soup)\n",
        "Delimiter()\n",
        "print(main_h1)"
      ]
    },
    {
      "attachments": {},
      "cell_type": "markdown",
      "metadata": {},
      "source": [
        "### .new_tag()\n",
        "\n",
        "\n",
        "Используется для создания нового тега. Он принимает имя тега в качестве аргумента и возвращает новый экземпляр тега, который может быть добавлен в дерево документа."
      ]
    },
    {
      "attachments": {},
      "cell_type": "markdown",
      "metadata": {},
      "source": [
        "\n",
        "- ```name``` - имя создаваемого тега.\n",
        "- ```namespace``` - пространство имен, которое может использоваться тегом.\n",
        "- ```nsprefix``` - префикс, используемый для идентификации пространства имен.\n",
        "- ```attrs``` - словарь атрибутов тега, например {\"class\": \"example\", \"id\": \"example-id\"}.\n",
        "- ```sourceline``` - номер строки в HTML-документе, где тег был создан.\n",
        "- ```sourcepos``` - позиция тега в HTMLЫ-документе.\n",
        "- ```kwattrs``` - дополнительные атрибуты, переданные в виде ключевых аргументов.\n"
      ]
    },
    {
      "cell_type": "code",
      "execution_count": 41,
      "metadata": {},
      "outputs": [
        {
          "name": "stdout",
          "output_type": "stream",
          "text": [
            "\n",
            "<html>\n",
            "<body><h1 class_=\"new_class_tag\">Welcome</h1>\n",
            "<p>Hello World!</p>\n",
            "</body>\n",
            "</html>\n",
            "\n"
          ]
        }
      ],
      "source": [
        "html_doc = \"\"\"\n",
        "<html>\n",
        "    <body>\n",
        "        <p>Hello World!</p>\n",
        "    </body>\n",
        "</html>\n",
        "\"\"\"\n",
        "\n",
        "soup = BeautifulSoup(html_doc, 'html.parser')\n",
        "\n",
        "# Создадим новый тег h1\n",
        "new_h1 = soup.new_tag(\"h1\", class_='new_class_tag')\n",
        "# Добавим текст в новый тег h1\n",
        "new_h1.string = \"Welcome\"\n",
        "\n",
        "# Вставим новый тег h1 в документ\n",
        "soup.body.insert(0, new_h1)\n",
        "\n",
        "print(soup)"
      ]
    },
    {
      "attachments": {},
      "cell_type": "markdown",
      "metadata": {},
      "source": [
        "### .insert_after(new_tag)\n",
        "\n",
        "Метод используется для вставки дочернего элемента после текущего элемента\n"
      ]
    },
    {
      "cell_type": "code",
      "execution_count": 42,
      "metadata": {},
      "outputs": [
        {
          "name": "stdout",
          "output_type": "stream",
          "text": [
            "\n",
            "<html>\n",
            "<body>\n",
            "<p>Paragraph 1</p><b id=\"insert_after_tag\">Important</b>\n",
            "<p>Paragraph 2</p>\n",
            "</body>\n",
            "</html>\n",
            "\n"
          ]
        }
      ],
      "source": [
        "html_doc = \"\"\"\n",
        "<html>\n",
        "    <body>\n",
        "        <p>Paragraph 1</p>\n",
        "        <p>Paragraph 2</p>\n",
        "    </body>\n",
        "</html>\n",
        "\"\"\"\n",
        "\n",
        "soup = BeautifulSoup(html_doc, 'html.parser')\n",
        "\n",
        "# Создаём тег который будем добавлять\n",
        "new_tag = soup.new_tag(\"b\", id='insert_after_tag')\n",
        "new_tag.string = \"Important\"\n",
        "\n",
        "first_p = soup.find(\"p\")\n",
        "first_p.insert_after(new_tag)\n",
        "\n",
        "print(soup)"
      ]
    },
    {
      "attachments": {},
      "cell_type": "markdown",
      "metadata": {},
      "source": [
        "### .insert_before(new_tag)\n",
        "\n",
        "Метод используется для вставки тега (Tag) перед другим тегом.\n"
      ]
    },
    {
      "cell_type": "code",
      "execution_count": 43,
      "metadata": {},
      "outputs": [
        {
          "name": "stdout",
          "output_type": "stream",
          "text": [
            "\n",
            "<html>\n",
            "<body>\n",
            "<div>\n",
            "<h1 id=\"insert_before_tag\">Header</h1><p>Paragraph 1</p>\n",
            "<p>Paragraph 2</p>\n",
            "</div>\n",
            "</body>\n",
            "</html>\n",
            "\n"
          ]
        }
      ],
      "source": [
        "html_doc = \"\"\"\n",
        "<html>\n",
        "  <body>\n",
        "    <div>\n",
        "      <p>Paragraph 1</p>\n",
        "      <p>Paragraph 2</p>\n",
        "    </div>\n",
        "  </body>\n",
        "</html>\n",
        "\"\"\"\n",
        "\n",
        "soup = BeautifulSoup(html_doc, 'html.parser')\n",
        "new_tag = soup.new_tag(\"h1\", id='insert_before_tag')\n",
        "new_tag.string = \"Header\"\n",
        "\n",
        "first_p = soup.find(\"p\")\n",
        "first_p.insert_before(new_tag)\n",
        "\n",
        "print(soup)"
      ]
    },
    {
      "attachments": {},
      "cell_type": "markdown",
      "metadata": {},
      "source": [
        "### .insert(0, new_tag)\n",
        "\n",
        "Метод позволяет вставить другой элемент структуры HTML внутрь элемента, к которому применяется метод. \n"
      ]
    },
    {
      "attachments": {},
      "cell_type": "markdown",
      "metadata": {},
      "source": [
        "Метод принимает два параметра:\n",
        "\n",
        "- ```index```: индекс, по которому новый элемент будет вставлен\n",
        "- ```element```: элемент, который необходимо вставить внутрь элемента"
      ]
    },
    {
      "cell_type": "code",
      "execution_count": 51,
      "metadata": {},
      "outputs": [
        {
          "name": "stdout",
          "output_type": "stream",
          "text": [
            "<ul>\n",
            "<li>Item 1</li>\n",
            "<li>Item 2</li>\n",
            "<li>Item 3</li>\n",
            "<li>Item 4 insert_index</li></ul>\n"
          ]
        }
      ],
      "source": [
        "html_doc = \"\"\"\n",
        "<html>\n",
        "    <body>\n",
        "        <div id=\"main\">\n",
        "            <ul>\n",
        "                <li>Item 1</li>\n",
        "                <li>Item 2</li>\n",
        "                <li>Item 3</li>\n",
        "            </ul>\n",
        "        </div>\n",
        "    </body>\n",
        "</html>\n",
        "\"\"\"\n",
        "\n",
        "soup = BeautifulSoup(html_doc, 'lxml')\n",
        "\n",
        "# Находим первый div с id \"main\"\n",
        "main_div = soup.find('ul')\n",
        "\n",
        "# Создаёт тег li\n",
        "new_li = soup.new_tag(\"li\")\n",
        "# Устанавливает текст внутри созданного li\n",
        "new_li.string = \"Item 4 insert_index\"\n",
        "\n",
        "# Добавляем созданный тег li в тег ul на индекс 0\n",
        "main_div.insert(7,new_li)\n",
        "\n",
        "print(main_div)"
      ]
    },
    {
      "attachments": {},
      "cell_type": "markdown",
      "metadata": {},
      "source": [
        "### .wrap\n",
        "\n",
        "Метод служит для обертывания тегов в документе HTML. "
      ]
    },
    {
      "cell_type": "code",
      "execution_count": 45,
      "metadata": {},
      "outputs": [
        {
          "name": "stdout",
          "output_type": "stream",
          "text": [
            "\n",
            "<body>\n",
            "<div class_=\"wrap_tag\"><p>Some text</p></div>\n",
            "</body>\n",
            "\n"
          ]
        }
      ],
      "source": [
        "html_doc = \"\"\"\n",
        "<body>\n",
        "  <p>Some text</p>\n",
        "</body>\n",
        "\"\"\"\n",
        "\n",
        "soup = BeautifulSoup(html_doc, 'html.parser')\n",
        "\n",
        "# Обернем первый тег p внутри body с помощью тега div\n",
        "p_tag = soup.body.p\n",
        "p_tag.wrap(soup.new_tag(\"div\", class_='wrap_tag'))\n",
        "\n",
        "print(soup)"
      ]
    }
  ],
  "metadata": {
    "colab": {
      "collapsed_sections": [
        "0ZLIwUdjO7qb"
      ],
      "provenance": []
    },
    "kernelspec": {
      "display_name": "Python 3",
      "name": "python3"
    },
    "language_info": {
      "codemirror_mode": {
        "name": "ipython",
        "version": 3
      },
      "file_extension": ".py",
      "mimetype": "text/x-python",
      "name": "python",
      "nbconvert_exporter": "python",
      "pygments_lexer": "ipython3",
      "version": "3.11.2"
    }
  },
  "nbformat": 4,
  "nbformat_minor": 0
}
