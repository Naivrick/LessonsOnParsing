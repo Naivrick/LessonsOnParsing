{
 "cells": [
  {
   "cell_type": "markdown",
   "metadata": {},
   "source": [
    "# Полезности\n",
    "\n",
    "> [Cheat sheet XPath](https://www.red-gate.com/simple-talk/development/dotnet-development/xpath-css-dom-and-selenium-the-rosetta-stone/)\n",
    "<br>\n",
    "> [XPath trainer](https://topswagcode.com/xpath/)\n",
    "<br>\n",
    "> [JSONPlaceholder](https://jsonplaceholder.typicode.com/)\n"
   ]
  },
  {
   "cell_type": "code",
   "execution_count": null,
   "metadata": {},
   "outputs": [],
   "source": [
    "import requests\n",
    "from bs4 import BeautifulSoup\n",
    "import lxml\n",
    "import fake_useragent\n",
    "\n",
    "def Delimiter(count = 50, separator = '-', newLines = True):\n",
    "    transfer = '\\n' if newLines else ''\n",
    "        \n",
    "    print(f\"{transfer}{separator * count}{transfer}\")\n",
    "\n",
    "def UA() -> dict:\n",
    "    ua = fake_useragent.FakeUserAgent()\n",
    "    return {'User-Agent': ua.random}\n",
    "\n"
   ]
  }
 ],
 "metadata": {
  "kernelspec": {
   "display_name": "venv",
   "language": "python",
   "name": "python3"
  },
  "language_info": {
   "name": "python",
   "version": "3.11.2"
  },
  "orig_nbformat": 4
 },
 "nbformat": 4,
 "nbformat_minor": 2
}
